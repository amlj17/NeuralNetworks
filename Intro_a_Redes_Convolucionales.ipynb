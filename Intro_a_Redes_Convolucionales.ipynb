{
  "nbformat": 4,
  "nbformat_minor": 0,
  "metadata": {
    "colab": {
      "provenance": []
    },
    "kernelspec": {
      "name": "python3",
      "display_name": "Python 3"
    },
    "language_info": {
      "name": "python"
    },
    "accelerator": "GPU",
    "gpuClass": "standard"
  },
  "cells": [
    {
      "cell_type": "markdown",
      "source": [
        "## Práctica #3"
      ],
      "metadata": {
        "id": "rlcloVtXyyJY"
      }
    },
    {
      "cell_type": "markdown",
      "source": [
        "**Profesor**: Luis Norberto Zúñiga Morales, Universidad Iberoamericana Ciudad de México\n",
        "\n",
        "*Inspirado en el libro [Hands-On Machine Learning with Scikit-Learn, Keras, and TensorFlow, 2nd Edition](https://www.oreilly.com/library/view/hands-on-machine-learning/9781492032632/).*\n",
        "\n",
        "**Objetivos**:\n",
        "- Introducir la API de Keras a los estudiantes para la implementación de redes neuronales convolucionales mediante Tensorflow.\n",
        "- Implementar ideas básicas de una red neuronal convolucional mediante un ejemplo práctico de clasificación usando el dataset MNIST.\n",
        "\n",
        "**Instrucciones**: \n",
        "- Realizar cada una de las actividades propuestas en este libro de Google Colab.\n",
        "- Se puede realizar en equipos de 2 personas.\n",
        "- Para la entrega de sus respuestas, es importante que todas las celdas en cuestión se encuentren ejecutadas para mostrar y evaluar sus resultados.\n",
        "- Descargar su libro con terminación IPYNB y cargarlo en la actividad correspondiente en Brigthspace."
      ],
      "metadata": {
        "id": "dlMbP0kXy2hg"
      }
    },
    {
      "cell_type": "code",
      "source": [
        "print('Nombre 1')\n",
        "print('Nombre 2')"
      ],
      "metadata": {
        "id": "BvKdFg7Jy2Ia"
      },
      "execution_count": null,
      "outputs": []
    },
    {
      "cell_type": "markdown",
      "source": [
        "### Convolución en Acción"
      ],
      "metadata": {
        "id": "yX5tuiSI2LIx"
      }
    },
    {
      "cell_type": "markdown",
      "source": [
        "En Tensorflow, una imagen se representa como un tensor en 3D con una forma [alto, ancho, # canales].\n",
        "- Un mini-batch se representa como un tensor 4D de forma [tamaño del mini-batch, alto, ancho, # canales].\n",
        "- Los pesos de una capa convolucional se representan como un tensor 4D con forma [$f_h$, $f_w$, $f_n$, $f_n$].\n",
        "- Los terminos del bias de una capa convolucional se representan como un tensor 1D de forma [$f_n$]."
      ],
      "metadata": {
        "id": "eh01NY3Xunvf"
      }
    },
    {
      "cell_type": "markdown",
      "source": [
        "El siguiente ejemplo carga unas imágenes precargadas "
      ],
      "metadata": {
        "id": "wdfORjKyvzuI"
      }
    },
    {
      "cell_type": "code",
      "source": [
        "from sklearn.datasets import load_sample_image\n",
        "import numpy as np\n",
        "import matplotlib.pyplot as plt\n",
        "import tensorflow as tf\n",
        "from tensorflow import keras"
      ],
      "metadata": {
        "id": "txsRYRNJtyT6"
      },
      "execution_count": 16,
      "outputs": []
    },
    {
      "cell_type": "code",
      "source": [
        "china = load_sample_image('china.jpg') / 255\n",
        "flower = load_sample_image('flower.jpg') / 255\n",
        "images = np.array([china, flower])"
      ],
      "metadata": {
        "id": "KF8evXhxt31O"
      },
      "execution_count": 4,
      "outputs": []
    },
    {
      "cell_type": "code",
      "source": [
        "# escribir aqui su codigo para que muestre las imagenes y puedan verlas antes de aplicar los filtros"
      ],
      "metadata": {
        "id": "D1nGdM3kzgU7"
      },
      "execution_count": 10,
      "outputs": []
    },
    {
      "cell_type": "code",
      "source": [
        "batch_size, height, width, channels = images.shape"
      ],
      "metadata": {
        "id": "687GEoTCuZiL"
      },
      "execution_count": 11,
      "outputs": []
    },
    {
      "cell_type": "code",
      "source": [
        "# escribir su codigo para imprimir las variables anteriores para visualizar el valor de cada una de ellas"
      ],
      "metadata": {
        "id": "zy_L9QztxJd_"
      },
      "execution_count": 14,
      "outputs": []
    },
    {
      "cell_type": "code",
      "source": [
        "# creamos dos filtros\n",
        "filters = np.zeros(shape=(7,7, channels, 2), dtype = np.float32) #flitros de 7 x 7 x # de canales x # de filtros\n",
        "filters[:, 3, :, 0] = 1 # linea vertical \n",
        "filters[3, :, :, 1] = 1 # linea horizontal"
      ],
      "metadata": {
        "id": "kZ-mMtddxPgr"
      },
      "execution_count": 13,
      "outputs": []
    },
    {
      "cell_type": "markdown",
      "source": [
        "- *images* es el mini-batch (un tensor 4D)\n",
        "- *filters* sons los filtros que van a aplicar\n",
        "- Se aplican ambos filtros usando `tf.nn.conv2d()`, con cero padding y paso de 1."
      ],
      "metadata": {
        "id": "-FkBN6Hz1Wrf"
      }
    },
    {
      "cell_type": "code",
      "source": [
        "outputs = tf.nn.conv2d(images, filters, strides = 1, padding = 'SAME')"
      ],
      "metadata": {
        "id": "frCFWnC_x3j1"
      },
      "execution_count": 17,
      "outputs": []
    },
    {
      "cell_type": "code",
      "source": [
        "plt.imshow(outputs[0, :, :, 1], cmap = 'gray') # graficar primera imagen aplicada segundo mapa de caracteristicas\n",
        "plt.show()"
      ],
      "metadata": {
        "id": "Jh07TNgmy4uY"
      },
      "execution_count": null,
      "outputs": []
    },
    {
      "cell_type": "markdown",
      "source": [
        "### MNIST con Capas Convolucionales\n",
        "\n"
      ],
      "metadata": {
        "id": "viC2iy6Z0rcg"
      }
    },
    {
      "cell_type": "code",
      "execution_count": null,
      "metadata": {
        "id": "jUdKzUQ4MEVD"
      },
      "outputs": [],
      "source": [
        "import random\n",
        "import pandas as pd"
      ]
    },
    {
      "cell_type": "markdown",
      "source": [
        "En primer lugar, vamos a revisar las versiones de nuestras librerías principales."
      ],
      "metadata": {
        "id": "ZO0qL2ahDsF4"
      }
    },
    {
      "cell_type": "code",
      "source": [
        "tf.__version__"
      ],
      "metadata": {
        "colab": {
          "base_uri": "https://localhost:8080/",
          "height": 35
        },
        "id": "d99gvjkrMN7G",
        "outputId": "fa079de4-f032-4fdb-daaa-e70b341acf8c"
      },
      "execution_count": null,
      "outputs": [
        {
          "output_type": "execute_result",
          "data": {
            "text/plain": [
              "'2.12.0'"
            ],
            "application/vnd.google.colaboratory.intrinsic+json": {
              "type": "string"
            }
          },
          "metadata": {},
          "execution_count": 2
        }
      ]
    },
    {
      "cell_type": "code",
      "source": [
        "keras.__version__"
      ],
      "metadata": {
        "colab": {
          "base_uri": "https://localhost:8080/",
          "height": 35
        },
        "id": "TG44wEEbMRc8",
        "outputId": "bf802ef0-c3de-4db6-b408-8b9d745f2f0f"
      },
      "execution_count": null,
      "outputs": [
        {
          "output_type": "execute_result",
          "data": {
            "text/plain": [
              "'2.12.0'"
            ],
            "application/vnd.google.colaboratory.intrinsic+json": {
              "type": "string"
            }
          },
          "metadata": {},
          "execution_count": 3
        }
      ]
    },
    {
      "cell_type": "markdown",
      "source": [
        "Keras provee algunas funciones de utilidad para descargar y cargar conjuntos de datos comunes. En este caso, vamos a utilizar el dataset llamado MNIST. Vamos a cargarlo:"
      ],
      "metadata": {
        "id": "-K2sEcVlDxN-"
      }
    },
    {
      "cell_type": "code",
      "source": [
        "mnist = keras.datasets.mnist"
      ],
      "metadata": {
        "id": "38dQ9lUlMbUQ"
      },
      "execution_count": null,
      "outputs": []
    },
    {
      "cell_type": "code",
      "source": [
        "(X_train,y_train), (X_test,y_test) = mnist.load_data()"
      ],
      "metadata": {
        "id": "3TRime3OMpsJ",
        "colab": {
          "base_uri": "https://localhost:8080/"
        },
        "outputId": "f1504570-49de-42a8-e554-4db065f66cb7"
      },
      "execution_count": null,
      "outputs": [
        {
          "output_type": "stream",
          "name": "stdout",
          "text": [
            "Downloading data from https://storage.googleapis.com/tensorflow/tf-keras-datasets/mnist.npz\n",
            "11490434/11490434 [==============================] - 0s 0us/step\n"
          ]
        }
      ]
    },
    {
      "cell_type": "markdown",
      "source": [
        "### Visualización de los datos"
      ],
      "metadata": {
        "id": "HyzMEJ39mcRA"
      }
    },
    {
      "cell_type": "code",
      "source": [
        "plt.rcParams['figure.figsize'] = (9,9) # Make the figures a bit bigger\n",
        "\n",
        "for i in range(9):\n",
        "    plt.subplot(3,3,i+1)\n",
        "    num = random.randint(0, len(X_train))\n",
        "    plt.imshow(X_train[num], cmap='gray', interpolation='none')\n",
        "    plt.title(\"Class {}\".format(y_train[num]))\n",
        "    \n",
        "plt.tight_layout()"
      ],
      "metadata": {
        "colab": {
          "base_uri": "https://localhost:8080/",
          "height": 907
        },
        "id": "O7FJz2SuWrEY",
        "outputId": "01bb7bb9-b0dd-4080-eb91-0c6e22e70b2e"
      },
      "execution_count": null,
      "outputs": [
        {
          "output_type": "display_data",
          "data": {
            "text/plain": [
              "<Figure size 900x900 with 9 Axes>"
            ],
            "image/png": "[encoded data removed]"
          },
          "metadata": {}
        }
      ]
    },
    {
      "cell_type": "markdown",
      "source": [
        "A diferencia de Scikit Learn, Keras representa las imágenes como un arreglo. En este caso, son imágenes de tamaño 28x28. Además, la intensidad de cada pixel se representa como enteros entre 0 y 255."
      ],
      "metadata": {
        "id": "c0w455QlEMRQ"
      }
    },
    {
      "cell_type": "code",
      "source": [
        "X_train.shape"
      ],
      "metadata": {
        "colab": {
          "base_uri": "https://localhost:8080/"
        },
        "id": "4Spo-D8KM90n",
        "outputId": "74899148-e54f-441d-f4ee-962b19485295"
      },
      "execution_count": null,
      "outputs": [
        {
          "output_type": "execute_result",
          "data": {
            "text/plain": [
              "(60000, 28, 28)"
            ]
          },
          "metadata": {},
          "execution_count": 7
        }
      ]
    },
    {
      "cell_type": "code",
      "source": [
        "X_train.dtype"
      ],
      "metadata": {
        "colab": {
          "base_uri": "https://localhost:8080/"
        },
        "id": "P85b2I_WNA74",
        "outputId": "912ee7e3-4d7e-4f30-edfd-eee702c77466"
      },
      "execution_count": null,
      "outputs": [
        {
          "output_type": "execute_result",
          "data": {
            "text/plain": [
              "dtype('uint8')"
            ]
          },
          "metadata": {},
          "execution_count": 8
        }
      ]
    },
    {
      "cell_type": "markdown",
      "source": [
        "### Preparando los datos para su entrenamiento"
      ],
      "metadata": {
        "id": "LaKukWTp02K2"
      }
    },
    {
      "cell_type": "markdown",
      "source": [
        "Se carga el dataset en las variables de entrenamiento y prueba. Además, vamos a considerar un conjunto de validación para evaluar finalmente la red neuronal. \n",
        "\n",
        "Por otro lado, debemos normalizar los valores de la matriz (que van de 0 a 255) para que solo sean valores entres 0 y 1. Por esto, dividimos entre 255. Con esto, adicionalmente, los valores pasan a ser de punto flotante."
      ],
      "metadata": {
        "id": "5cYI14zFEo5l"
      }
    },
    {
      "cell_type": "code",
      "source": [
        "X_valid, X_train = X_train[:5000] / 255.0, X_train[5000:] / 255.0\n",
        "y_valid, y_train = y_train[:5000], y_train[5000:]"
      ],
      "metadata": {
        "id": "V9VOtWnmd6C2"
      },
      "execution_count": null,
      "outputs": []
    },
    {
      "cell_type": "code",
      "source": [
        "X_train.shape"
      ],
      "metadata": {
        "colab": {
          "base_uri": "https://localhost:8080/"
        },
        "outputId": "67a1ed11-4d43-4b1c-b614-f584c70e55f9",
        "id": "VDl8Oz4Hh8L9"
      },
      "execution_count": null,
      "outputs": [
        {
          "output_type": "execute_result",
          "data": {
            "text/plain": [
              "(55000, 28, 28)"
            ]
          },
          "metadata": {},
          "execution_count": 10
        }
      ]
    },
    {
      "cell_type": "code",
      "source": [
        "X_train.dtype"
      ],
      "metadata": {
        "colab": {
          "base_uri": "https://localhost:8080/"
        },
        "outputId": "ceb626a8-1538-4fc0-f0a3-80067b43af2b",
        "id": "pHSlv2Mgh8L_"
      },
      "execution_count": null,
      "outputs": [
        {
          "output_type": "execute_result",
          "data": {
            "text/plain": [
              "dtype('float64')"
            ]
          },
          "metadata": {},
          "execution_count": 11
        }
      ]
    },
    {
      "cell_type": "code",
      "source": [
        "X_valid.shape"
      ],
      "metadata": {
        "colab": {
          "base_uri": "https://localhost:8080/"
        },
        "outputId": "a55299cf-b11f-4228-a79d-263377e54085",
        "id": "KZXCDFq_h8MA"
      },
      "execution_count": null,
      "outputs": [
        {
          "output_type": "execute_result",
          "data": {
            "text/plain": [
              "(5000, 28, 28)"
            ]
          },
          "metadata": {},
          "execution_count": 12
        }
      ]
    },
    {
      "cell_type": "code",
      "source": [
        "X_test.shape"
      ],
      "metadata": {
        "colab": {
          "base_uri": "https://localhost:8080/"
        },
        "id": "HMenMJAATfiC",
        "outputId": "ef1d9cc5-d8e8-4044-d68d-fedd3a3cdb59"
      },
      "execution_count": null,
      "outputs": [
        {
          "output_type": "execute_result",
          "data": {
            "text/plain": [
              "(10000, 28, 28)"
            ]
          },
          "metadata": {},
          "execution_count": 13
        }
      ]
    },
    {
      "cell_type": "markdown",
      "source": [
        "### Construcción y entrenamiento de la red neuronal convolucional"
      ],
      "metadata": {
        "id": "19AzGard08de"
      }
    },
    {
      "cell_type": "code",
      "source": [
        "model = keras.models.Sequential([\n",
        "    keras.layers.Conv2D(64, 7, activation='relu', padding='same', input_shape=[28,28,1]), # 64 filtros de tamaño 7x7\n",
        "    keras.layers.MaxPooling2D(2), #maxpool de tamaño 2x2 con salto de 2, divide cada dimensión espacial en dos\n",
        "    keras.layers.Conv2D(128, 3, activation='relu', padding = 'same'), # misma estructura que se repite dos veces\n",
        "    keras.layers.Conv2D(128, 3, activation='relu', padding = 'same'), # el número de capas es un hiperparámetros por ajustar\n",
        "    keras.layers.MaxPooling2D(2),\n",
        "    keras.layers.Conv2D(256, 3, activation = 'relu', padding = 'same'), # el número de filtros aumenta para capturar características más complejas\n",
        "    keras.layers.Conv2D(256, 3, activation = 'relu', padding = 'same'),\n",
        "    keras.layers.MaxPooling2D(2),\n",
        "    keras.layers.Flatten(),\n",
        "    keras.layers.Dense(128, activation = 'relu'), # perceptron multicapa para clasificar\n",
        "    keras.layers.Dropout(0.5),\n",
        "    keras.layers.Dense(64, activation = 'relu'),\n",
        "    keras.layers.Dense(10, activation = 'softmax'),\n",
        "])"
      ],
      "metadata": {
        "id": "k3z2x_KtFmxr"
      },
      "execution_count": null,
      "outputs": []
    },
    {
      "cell_type": "code",
      "source": [
        "model.summary()"
      ],
      "metadata": {
        "id": "IJe8cnFeGqNJ"
      },
      "execution_count": null,
      "outputs": []
    },
    {
      "cell_type": "markdown",
      "source": [
        "Usualmente, los valores de los pesos iniciales se eligen de forma aleatoria y el valor del bias se inicializa en 0. Sin embargo, esto trae consigo ciertos problemas..."
      ],
      "metadata": {
        "id": "aBXzh2dQG0xd"
      }
    },
    {
      "cell_type": "markdown",
      "source": [
        "Después de crear el modelo, debemos compilarlo con el método `compile()`, el cual permite especificar la función de pérdida y el optimizador, además de otras métricas a calcular durante el entrenamiento y evaluación."
      ],
      "metadata": {
        "id": "zGnfYDU0HClu"
      }
    },
    {
      "cell_type": "code",
      "source": [
        "model.compile(loss='sparse_categorical_crossentropy', optimizer='sgd', metrics=['accuracy'])"
      ],
      "metadata": {
        "id": "4WUC5dmlHZC6"
      },
      "execution_count": null,
      "outputs": []
    },
    {
      "cell_type": "code",
      "source": [
        "history = model.fit(X_train, y_train, epochs=30, validation_data = (X_valid, y_valid))"
      ],
      "metadata": {
        "id": "FPkFuvdLHwr4"
      },
      "execution_count": null,
      "outputs": []
    },
    {
      "cell_type": "code",
      "source": [
        "pd.DataFrame(history.history).plot(figsize=(8,5))\n",
        "plt.grid(True)\n",
        "plt.gca().set_ylim(0.0,1) # modifica el rango del eje y\n",
        "plt.show()"
      ],
      "metadata": {
        "id": "GmDawvcZPvp3"
      },
      "execution_count": null,
      "outputs": []
    },
    {
      "cell_type": "markdown",
      "source": [
        "### Evaluación del modelo obtenido y predicciones para datos que no ha visto antes"
      ],
      "metadata": {
        "id": "Hr9UrL031BYd"
      }
    },
    {
      "cell_type": "markdown",
      "source": [
        "Para realizar la evaluación final del modelo se utilizar el método `evaluate()` pasando como argumentos `X_test` y `y_test`."
      ],
      "metadata": {
        "id": "8MtoryoJmvo3"
      }
    },
    {
      "cell_type": "code",
      "source": [
        "model.evaluate(X_test,y_test)"
      ],
      "metadata": {
        "colab": {
          "base_uri": "https://localhost:8080/"
        },
        "id": "qQN6Dx_ZRtlZ",
        "outputId": "52a92f48-24ac-4901-bc6f-efa433236127"
      },
      "execution_count": null,
      "outputs": [
        {
          "output_type": "stream",
          "name": "stdout",
          "text": [
            "313/313 [==============================] - 1s 2ms/step - loss: 13.9677 - accuracy: 0.9724\n"
          ]
        },
        {
          "output_type": "execute_result",
          "data": {
            "text/plain": [
              "[13.967702865600586, 0.9724000096321106]"
            ]
          },
          "metadata": {},
          "execution_count": 19
        }
      ]
    },
    {
      "cell_type": "markdown",
      "source": [
        "Igual que Scikit Learn, es posible predecir las etiquetas del conjunto de prueba. Noten que regresa un arreglo con todas las predicciones."
      ],
      "metadata": {
        "id": "t_XYSDKtm7XO"
      }
    },
    {
      "cell_type": "code",
      "source": [
        "predictions = model.predict(X_test)"
      ],
      "metadata": {
        "id": "YVs5BCUZjG29",
        "colab": {
          "base_uri": "https://localhost:8080/"
        },
        "outputId": "7bea9024-4cf6-4e13-959d-e536b26f5b31"
      },
      "execution_count": null,
      "outputs": [
        {
          "output_type": "stream",
          "name": "stdout",
          "text": [
            "313/313 [==============================] - 1s 1ms/step\n"
          ]
        }
      ]
    },
    {
      "cell_type": "markdown",
      "source": [
        "¿Cómo se ve la predicción? Es un arreglo de (en este caso) 10 clases, donde a cada entrada se le asigna un valor de 'probabilidad'. Para determinar el valor final de la clase, se considera el más alto entre todos ellos."
      ],
      "metadata": {
        "id": "sH-v_GTnnHQN"
      }
    },
    {
      "cell_type": "code",
      "source": [
        "predictions[56]"
      ],
      "metadata": {
        "colab": {
          "base_uri": "https://localhost:8080/"
        },
        "id": "cMoDap1KEzlp",
        "outputId": "ab4926fa-c428-49ee-fd66-9c378f473e5c"
      },
      "execution_count": null,
      "outputs": [
        {
          "output_type": "execute_result",
          "data": {
            "text/plain": [
              "array([0., 0., 0., 0., 1., 0., 0., 0., 0., 0.], dtype=float32)"
            ]
          },
          "metadata": {},
          "execution_count": 23
        }
      ]
    },
    {
      "cell_type": "code",
      "source": [
        "np.argmax(predictions[56])"
      ],
      "metadata": {
        "colab": {
          "base_uri": "https://localhost:8080/"
        },
        "id": "VQsrgPFWE2WQ",
        "outputId": "40661b49-ed18-4862-d725-4e9e347c9076"
      },
      "execution_count": null,
      "outputs": [
        {
          "output_type": "execute_result",
          "data": {
            "text/plain": [
              "4"
            ]
          },
          "metadata": {},
          "execution_count": 25
        }
      ]
    },
    {
      "cell_type": "code",
      "source": [
        "class_names = ['0', '1', '2', '3', '4', '5', '6', '7', '8', '9']"
      ],
      "metadata": {
        "id": "yb1Tkw3ZFeKr"
      },
      "execution_count": null,
      "outputs": []
    },
    {
      "cell_type": "code",
      "source": [
        "def plot_image(i, predictions_array, true_label, img):\n",
        "  predictions_array, true_label, img = predictions_array, true_label[i], img[i]\n",
        "  plt.grid(False)\n",
        "  plt.xticks([])\n",
        "  plt.yticks([])\n",
        "\n",
        "  plt.imshow(img, cmap=plt.cm.binary)\n",
        "\n",
        "  predicted_label = np.argmax(predictions_array)\n",
        "  if predicted_label == true_label:\n",
        "    color = 'blue'\n",
        "  else:\n",
        "    color = 'red'\n",
        "\n",
        "  plt.xlabel(\"{} {:2.0f}% ({})\".format(class_names[predicted_label],\n",
        "                                100*np.max(predictions_array),\n",
        "                                class_names[true_label]),\n",
        "                                color=color)"
      ],
      "metadata": {
        "id": "FJKc3c10FDbw"
      },
      "execution_count": null,
      "outputs": []
    },
    {
      "cell_type": "code",
      "source": [
        "def plot_value_array(i, predictions_array, true_label):\n",
        "  predictions_array, true_label = predictions_array, true_label[i]\n",
        "  plt.grid(False)\n",
        "  plt.xticks(range(10))\n",
        "  plt.yticks([])\n",
        "  thisplot = plt.bar(range(10), predictions_array, color=\"#777777\")\n",
        "  plt.ylim([0, 1])\n",
        "  predicted_label = np.argmax(predictions_array)\n",
        "\n",
        "  thisplot[predicted_label].set_color('red')\n",
        "  thisplot[true_label].set_color('blue')"
      ],
      "metadata": {
        "id": "A0BijqY8FFUz"
      },
      "execution_count": null,
      "outputs": []
    },
    {
      "cell_type": "code",
      "source": [
        "i = 88\n",
        "plt.figure(figsize=(6,3))\n",
        "plt.subplot(1,2,1)\n",
        "plot_image(i, predictions[i], y_test, X_test)\n",
        "plt.subplot(1,2,2)\n",
        "plot_value_array(i, predictions[i],  y_test)\n",
        "plt.show()"
      ],
      "metadata": {
        "colab": {
          "base_uri": "https://localhost:8080/",
          "height": 292
        },
        "id": "bT1Jykg7FKNQ",
        "outputId": "696e474d-d313-4457-e097-862d8f561989"
      },
      "execution_count": null,
      "outputs": [
        {
          "output_type": "display_data",
          "data": {
            "text/plain": [
              "<Figure size 600x300 with 2 Axes>"
            ],
            "image/png": "[encoded data removed]"
          },
          "metadata": {}
        }
      ]
    },
    {
      "cell_type": "markdown",
      "source": [
        "## Actividad 1"
      ],
      "metadata": {
        "id": "KhFEwhdwx7OF"
      }
    },
    {
      "cell_type": "markdown",
      "source": [
        "Revisar la documentación en Keras/Tensorflow sobre las capas convolucionales 2D y el pooling. Realizar un pequeño resumen sobre los argumentos que se utilizaron al momento de construir la arquitectura de la red neuronal convolucional anterior."
      ],
      "metadata": {
        "id": "F0bEebmM8EuE"
      }
    },
    {
      "cell_type": "markdown",
      "source": [
        "## Actividad 2"
      ],
      "metadata": {
        "id": "wY4tSAJPykdx"
      }
    },
    {
      "cell_type": "markdown",
      "source": [
        "1. Construir un perceptrón multicapa (*feedforward neural network*) para clasificar las imágenes de MNIST con la siguiente arquitectura:\n",
        "- una capa de entrada Flatten de tamaño [28,28]\n",
        "- dos capas ocultas, la primera con 300 neuronas y al segunda con 100 neuronas, ambas con función de activación ReLU\n",
        "- una capa de salida con 10 neuronas y función de activación softmax\n",
        "- ya que es un problema de clasificación, como función de pérdida se utiliza *categorical cross entropy* y como algoritmo de optimización usen gradiente descendiente estocástico.\n",
        "- utilizar early stoping para evitar sobreajuste.\n",
        "\n",
        "Comparar el desempeño de esta red neuronal con la de este programa mediante las métricas de evaluación y el historial de entrenamiento. ¿Por qué creen que una es mejor que la otra?\n",
        "\n",
        "2. Agreguen dropout a la red con un valor de 0.2. ¿Mejora en algo el desempeño del perceptrón anterior?"
      ],
      "metadata": {
        "id": "6hL_CQD-8f_O"
      }
    }
  ]
}