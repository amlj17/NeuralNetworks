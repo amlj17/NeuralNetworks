{
  "nbformat": 4,
  "nbformat_minor": 0,
  "metadata": {
    "colab": {
      "provenance": []
    },
    "kernelspec": {
      "name": "python3",
      "display_name": "Python 3"
    },
    "language_info": {
      "name": "python"
    }
  },
  "cells": [
    {
      "cell_type": "markdown",
      "source": [
        "Se instala la librería pulp "
      ],
      "metadata": {
        "id": "y5BL_Oqh0kSf"
      }
    },
    {
      "cell_type": "code",
      "execution_count": 1,
      "metadata": {
        "colab": {
          "base_uri": "https://localhost:8080/"
        },
        "id": "Rm1VPZxRrmcZ",
        "outputId": "1f49ec8d-51ab-4928-941f-da076105d18f"
      },
      "outputs": [
        {
          "output_type": "stream",
          "name": "stdout",
          "text": [
            "Looking in indexes: https://pypi.org/simple, https://us-python.pkg.dev/colab-wheels/public/simple/\n",
            "Collecting pulp\n",
            "  Downloading PuLP-2.7.0-py3-none-any.whl (14.3 MB)\n",
            "\u001b[2K     \u001b[90m━━━━━━━━━━━━━━━━━━━━━━━━━━━━━━━━━━━━━━━━\u001b[0m \u001b[32m14.3/14.3 MB\u001b[0m \u001b[31m41.1 MB/s\u001b[0m eta \u001b[36m0:00:00\u001b[0m\n",
            "\u001b[?25hInstalling collected packages: pulp\n",
            "Successfully installed pulp-2.7.0\n"
          ]
        }
      ],
      "source": [
        "!pip install pulp"
      ]
    },
    {
      "cell_type": "markdown",
      "source": [
        "Se importa la librería de Pulp "
      ],
      "metadata": {
        "id": "dfJKuOy6uJiZ"
      }
    },
    {
      "cell_type": "code",
      "source": [
        "# Import PuLP modeler functions\n",
        "from pulp import *"
      ],
      "metadata": {
        "id": "38HtHzk7t_Y4"
      },
      "execution_count": 2,
      "outputs": []
    },
    {
      "cell_type": "markdown",
      "source": [
        "Se resuelve el problema"
      ],
      "metadata": {
        "id": "znSsb3201eLH"
      }
    },
    {
      "cell_type": "code",
      "source": [
        "#Definimos el problema\n",
        "problema = pulp.LpProblem(\"\", LpMaximize)\n",
        "\n",
        "#Definimos las cotas de X1 y X2\n",
        "#X1 no está acotada\n",
        "x1=pulp.LpVariable(\"X1\",None,None, LpContinuous)\n",
        "x2=pulp.LpVariable(\"X2\",-3,None, LpContinuous)\n",
        "\n",
        "#Añadimos la ecuacion de Z\n",
        "problema += (-x1 + 4*x2, \"Z\")\n",
        "\n",
        "#Añadimos las restricciones\n",
        "problema += -3*x1 + x2 <= 6\n",
        "problema += x1 + 2*x2 <= 4\n",
        "\n",
        "#Se resuelve el problema\n",
        "problema.solve()\n",
        "\n",
        "#Se imprime el status del problema\n",
        "print(\"Status:\", LpStatus[problema.status])\n",
        "\n",
        "#imprimimos los valores de las xi's\n",
        "for v in problema.variables():\n",
        "    print(v.name, \"=\", v.varValue)\n",
        "\n",
        "#imprimimos el valor de Z\n",
        "print(\"Z = \", pulp.value(problema.objective))"
      ],
      "metadata": {
        "colab": {
          "base_uri": "https://localhost:8080/"
        },
        "id": "LK8fRhOw1gou",
        "outputId": "1c6b62a4-4ccc-4f71-de32-c7d3feb508f2"
      },
      "execution_count": 4,
      "outputs": [
        {
          "output_type": "stream",
          "name": "stdout",
          "text": [
            "Status: Optimal\n",
            "X1 = -1.1428571\n",
            "X2 = 2.5714286\n",
            "Z =  11.4285715\n"
          ]
        }
      ]
    },
    {
      "cell_type": "markdown",
      "source": [
        "Se obtiene:\n",
        "\n",
        "Status: Optimal\n",
        "\n",
        "X1 = -1.1428571\n",
        "\n",
        "X2 = 2.5714286\n",
        "\n",
        "Z =  11.4285715"
      ],
      "metadata": {
        "id": "YK0XLt1k7WiJ"
      }
    }
  ]
}