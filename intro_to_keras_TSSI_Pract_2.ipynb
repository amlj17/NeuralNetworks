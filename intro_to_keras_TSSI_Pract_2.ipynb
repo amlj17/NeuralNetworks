{
  "nbformat": 4,
  "nbformat_minor": 0,
  "metadata": {
    "colab": {
      "provenance": [],
      "gpuType": "T4"
    },
    "kernelspec": {
      "name": "python3",
      "display_name": "Python 3"
    },
    "language_info": {
      "name": "python"
    },
    "accelerator": "GPU",
    "gpuClass": "standard"
  },
  "cells": [
    {
      "cell_type": "markdown",
      "source": [
        "## Práctica #2"
      ],
      "metadata": {
        "id": "rlcloVtXyyJY"
      }
    },
    {
      "cell_type": "markdown",
      "source": [
        "**Profesor**: Luis Norberto Zúñiga Morales, Universidad Iberoamericana Ciudad de México\n",
        "\n",
        "*Inspirado en el libro [Hands-On Machine Learning with Scikit-Learn, Keras, and TensorFlow, 2nd Edition](https://www.oreilly.com/library/view/hands-on-machine-learning/9781492032632/).*\n",
        "\n",
        "**Objetivos**:\n",
        "- Introducir la API de Keras a los estudiantes para la implementación de redes neuronales con Tensorflow.\n",
        "- Implementar ideas básicas de una red neuronal mediante un ejemplo práctico de clasificación usando el dataset MNIST.\n",
        "- Introducir métricas de evaluación, funciones de activación y funciones de pérdida.\n",
        "\n",
        "**Instrucciones**: \n",
        "- Realizar cada una de las actividades propuestas en este libro de Google Colab.\n",
        "- Se puede realizar en equipos de 2 personas.\n",
        "- Para la entrega de sus respuestas, es importante que todas las celdas en cuestión se encuentren ejecutadas para mostrar y evaluar sus resultados.\n",
        "- Descargar su libro con terminación IPYNB y cargarlo en la actividad correspondiente en Brigthspace."
      ],
      "metadata": {
        "id": "dlMbP0kXy2hg"
      }
    },
    {
      "cell_type": "code",
      "source": [
        "print('El Mau')\n",
        "print('Andres')\n",
        "print('Andreiev')"
      ],
      "metadata": {
        "id": "BvKdFg7Jy2Ia",
        "colab": {
          "base_uri": "https://localhost:8080/"
        },
        "outputId": "08c9da30-5b93-4d85-a23f-3ce4078edad0"
      },
      "execution_count": null,
      "outputs": [
        {
          "output_type": "stream",
          "name": "stdout",
          "text": [
            "El Mau\n",
            "Andres\n",
            "Andreiev\n"
          ]
        }
      ]
    },
    {
      "cell_type": "markdown",
      "source": [
        "### Carga de librerías y conjunto de datos"
      ],
      "metadata": {
        "id": "viC2iy6Z0rcg"
      }
    },
    {
      "cell_type": "code",
      "execution_count": null,
      "metadata": {
        "id": "jUdKzUQ4MEVD"
      },
      "outputs": [],
      "source": [
        "import tensorflow as tf\n",
        "from tensorflow import keras\n",
        "import random\n",
        "import numpy as np\n",
        "import pandas as pd\n",
        "import matplotlib.pyplot as plt"
      ]
    },
    {
      "cell_type": "markdown",
      "source": [
        "En primer lugar, vamos a revisar las versiones de nuestras librerías principales."
      ],
      "metadata": {
        "id": "ZO0qL2ahDsF4"
      }
    },
    {
      "cell_type": "code",
      "source": [
        "tf.__version__"
      ],
      "metadata": {
        "colab": {
          "base_uri": "https://localhost:8080/",
          "height": 35
        },
        "id": "d99gvjkrMN7G",
        "outputId": "96809fb8-196b-425b-abfd-bef7b741e7fe"
      },
      "execution_count": null,
      "outputs": [
        {
          "output_type": "execute_result",
          "data": {
            "text/plain": [
              "'2.12.0'"
            ],
            "application/vnd.google.colaboratory.intrinsic+json": {
              "type": "string"
            }
          },
          "metadata": {},
          "execution_count": 3
        }
      ]
    },
    {
      "cell_type": "code",
      "source": [
        "keras.__version__"
      ],
      "metadata": {
        "colab": {
          "base_uri": "https://localhost:8080/",
          "height": 35
        },
        "id": "TG44wEEbMRc8",
        "outputId": "d99611dc-af64-4b5b-b54d-d99296f8c834"
      },
      "execution_count": null,
      "outputs": [
        {
          "output_type": "execute_result",
          "data": {
            "text/plain": [
              "'2.12.0'"
            ],
            "application/vnd.google.colaboratory.intrinsic+json": {
              "type": "string"
            }
          },
          "metadata": {},
          "execution_count": 4
        }
      ]
    },
    {
      "cell_type": "markdown",
      "source": [
        "Keras provee algunas funciones de utilidad para descargar y cargar conjuntos de datos comunes. En este caso, vamos a utilizar el dataset llamado MNIST. Vamos a cargarlo:"
      ],
      "metadata": {
        "id": "-K2sEcVlDxN-"
      }
    },
    {
      "cell_type": "code",
      "source": [
        "mnist = keras.datasets.mnist"
      ],
      "metadata": {
        "id": "38dQ9lUlMbUQ"
      },
      "execution_count": null,
      "outputs": []
    },
    {
      "cell_type": "code",
      "source": [
        "(X_train,y_train), (X_test,y_test) = mnist.load_data()"
      ],
      "metadata": {
        "id": "3TRime3OMpsJ"
      },
      "execution_count": null,
      "outputs": []
    },
    {
      "cell_type": "markdown",
      "source": [
        "### Visualización de los datos"
      ],
      "metadata": {
        "id": "HyzMEJ39mcRA"
      }
    },
    {
      "cell_type": "code",
      "source": [
        "plt.rcParams['figure.figsize'] = (9,9) # Make the figures a bit bigger\n",
        "\n",
        "for i in range(9):\n",
        "    plt.subplot(3,3,i+1)\n",
        "    num = random.randint(0, len(X_train))\n",
        "    plt.imshow(X_train[num], cmap='gray', interpolation='none')\n",
        "    plt.title(\"Class {}\".format(y_train[num]))\n",
        "    \n",
        "plt.tight_layout()"
      ],
      "metadata": {
        "colab": {
          "base_uri": "https://localhost:8080/",
          "height": 907
        },
        "id": "O7FJz2SuWrEY",
        "outputId": "567f1858-52b7-4dcc-b993-7b7847261741"
      },
      "execution_count": null,
      "outputs": [
        {
          "output_type": "display_data",
          "data": {
            "text/plain": [
              "<Figure size 900x900 with 9 Axes>"
            ],
            "image/png": "[encoded data removed]"
          },
          "metadata": {}
        }
      ]
    },
    {
      "cell_type": "markdown",
      "source": [
        "A diferencia de Scikit Learn, Keras representa las imágenes como un arreglo. En este caso, son imágenes de tamaño 28x28. Además, la intensidad de cada pixel se representa como enteros entre 0 y 255."
      ],
      "metadata": {
        "id": "c0w455QlEMRQ"
      }
    },
    {
      "cell_type": "code",
      "source": [
        "X_train.shape"
      ],
      "metadata": {
        "colab": {
          "base_uri": "https://localhost:8080/"
        },
        "id": "4Spo-D8KM90n",
        "outputId": "5d260050-032f-46dc-a18a-cf0d1b16337f"
      },
      "execution_count": null,
      "outputs": [
        {
          "output_type": "execute_result",
          "data": {
            "text/plain": [
              "(60000, 28, 28)"
            ]
          },
          "metadata": {},
          "execution_count": 8
        }
      ]
    },
    {
      "cell_type": "code",
      "source": [
        "X_train.dtype"
      ],
      "metadata": {
        "colab": {
          "base_uri": "https://localhost:8080/"
        },
        "id": "P85b2I_WNA74",
        "outputId": "6d06647c-450d-4680-b88c-d78c26f708c6"
      },
      "execution_count": null,
      "outputs": [
        {
          "output_type": "execute_result",
          "data": {
            "text/plain": [
              "dtype('uint8')"
            ]
          },
          "metadata": {},
          "execution_count": 9
        }
      ]
    },
    {
      "cell_type": "markdown",
      "source": [
        "### Preparando los datos para su entrenamiento"
      ],
      "metadata": {
        "id": "LaKukWTp02K2"
      }
    },
    {
      "cell_type": "markdown",
      "source": [
        "Se carga el dataset en las variables de entrenamiento y prueba. Además, vamos a considerar un conjunto de validación para evaluar finalmente la red neuronal. \n",
        "\n",
        "Por otro lado, debemos normalizar los valores de la matriz (que van de 0 a 255) para que solo sean valores entres 0 y 1. Por esto, dividimos entre 255. Con esto, adicionalmente, los valores pasan a ser de punto flotante."
      ],
      "metadata": {
        "id": "5cYI14zFEo5l"
      }
    },
    {
      "cell_type": "code",
      "source": [
        "X_valid, X_train = X_train[:5000] / 255.0, X_train[5000:] / 255.0\n",
        "y_valid, y_train = y_train[:5000], y_train[5000:]"
      ],
      "metadata": {
        "id": "V9VOtWnmd6C2"
      },
      "execution_count": null,
      "outputs": []
    },
    {
      "cell_type": "code",
      "source": [
        "X_train.shape"
      ],
      "metadata": {
        "colab": {
          "base_uri": "https://localhost:8080/"
        },
        "outputId": "861be01b-272e-46b8-e62b-6a553ee7e307",
        "id": "VDl8Oz4Hh8L9"
      },
      "execution_count": null,
      "outputs": [
        {
          "output_type": "execute_result",
          "data": {
            "text/plain": [
              "(55000, 28, 28)"
            ]
          },
          "metadata": {},
          "execution_count": 11
        }
      ]
    },
    {
      "cell_type": "code",
      "source": [
        "X_train.dtype"
      ],
      "metadata": {
        "colab": {
          "base_uri": "https://localhost:8080/"
        },
        "outputId": "810b76e2-1c04-4bda-c182-894a6c6ed0bf",
        "id": "pHSlv2Mgh8L_"
      },
      "execution_count": null,
      "outputs": [
        {
          "output_type": "execute_result",
          "data": {
            "text/plain": [
              "dtype('float64')"
            ]
          },
          "metadata": {},
          "execution_count": 12
        }
      ]
    },
    {
      "cell_type": "code",
      "source": [
        "X_valid.shape"
      ],
      "metadata": {
        "colab": {
          "base_uri": "https://localhost:8080/"
        },
        "outputId": "acee0b97-d4b2-4517-9560-7a8dc247ae70",
        "id": "KZXCDFq_h8MA"
      },
      "execution_count": null,
      "outputs": [
        {
          "output_type": "execute_result",
          "data": {
            "text/plain": [
              "(5000, 28, 28)"
            ]
          },
          "metadata": {},
          "execution_count": 13
        }
      ]
    },
    {
      "cell_type": "code",
      "source": [
        "X_test.shape"
      ],
      "metadata": {
        "colab": {
          "base_uri": "https://localhost:8080/"
        },
        "id": "HMenMJAATfiC",
        "outputId": "c05f704a-52b0-4468-bcca-de10581f0f73"
      },
      "execution_count": null,
      "outputs": [
        {
          "output_type": "execute_result",
          "data": {
            "text/plain": [
              "(10000, 28, 28)"
            ]
          },
          "metadata": {},
          "execution_count": 14
        }
      ]
    },
    {
      "cell_type": "markdown",
      "source": [
        "### Construcción y entrenamiento de la red neuronal"
      ],
      "metadata": {
        "id": "19AzGard08de"
      }
    },
    {
      "cell_type": "markdown",
      "source": [
        "Vamos a construir el modelo de la red neuronal. Empecemos con un MLP con dos capas ocultas. La idea es la siguiente:\n",
        "\n",
        "![figure.png](data:image/png;base64,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)"
      ],
      "metadata": {
        "id": "_WkAjcJ4FgOc"
      }
    },
    {
      "cell_type": "code",
      "source": [
        "model = keras.models.Sequential() #crea un modelo secuencial, el más simple en Keras\n",
        "model.add(keras.layers.Flatten(input_shape = (28,28))) # la capa de entrada, Flatten covierte las imagenes en objetos de una dimension\n",
        "model.add(keras.layers.Dense(512, kernel_initializer = 'he_normal')) # la capa densa compuesta por 512 neuronas\n",
        "model.add(keras.layers.LeakyReLU(alpha=0.2))\n",
        "# model.add(keras.layers.Dropout(0.2))\n",
        "model.add(keras.layers.Dense(512, activation='relu')) # segunda capa densa compuesta por 512 neuronas\n",
        "# model.add(keras.layers.Dropout(0.2))\n",
        "model.add(keras.layers.Dense(10, activation='softmax')) # la capa de salida, una neurona por clase"
      ],
      "metadata": {
        "id": "k3z2x_KtFmxr"
      },
      "execution_count": null,
      "outputs": []
    },
    {
      "cell_type": "markdown",
      "source": [
        "Recuerden que la función ReLU se ve así:\n",
        "\n",
        "![relu.jpg](data:image/jpeg;base64,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)"
      ],
      "metadata": {
        "id": "-XJ4AxhNyTzo"
      }
    },
    {
      "cell_type": "code",
      "source": [
        "model.summary()"
      ],
      "metadata": {
        "colab": {
          "base_uri": "https://localhost:8080/"
        },
        "id": "IJe8cnFeGqNJ",
        "outputId": "0cb4be4e-cdba-4c16-eca9-c844f9ec05e2"
      },
      "execution_count": null,
      "outputs": [
        {
          "output_type": "stream",
          "name": "stdout",
          "text": [
            "Model: \"sequential\"\n",
            "_________________________________________________________________\n",
            " Layer (type)                Output Shape              Param #   \n",
            "=================================================================\n",
            " flatten (Flatten)           (None, 784)               0         \n",
            "                                                                 \n",
            " dense (Dense)               (None, 512)               401920    \n",
            "                                                                 \n",
            " leaky_re_lu (LeakyReLU)     (None, 512)               0         \n",
            "                                                                 \n",
            " dense_1 (Dense)             (None, 512)               262656    \n",
            "                                                                 \n",
            " dense_2 (Dense)             (None, 10)                5130      \n",
            "                                                                 \n",
            "=================================================================\n",
            "Total params: 669,706\n",
            "Trainable params: 669,706\n",
            "Non-trainable params: 0\n",
            "_________________________________________________________________\n"
          ]
        }
      ]
    },
    {
      "cell_type": "markdown",
      "source": [
        "Usualmente, los valores de los pesos iniciales se eligen de forma aleatoria y el valor del bias se inicializa en 0. Sin embargo, esto trae consigo ciertos problemas..."
      ],
      "metadata": {
        "id": "aBXzh2dQG0xd"
      }
    },
    {
      "cell_type": "markdown",
      "source": [
        "Después de crear el modelo, debemos compilarlo con el método `compile()`, el cual permite especificar la función de pérdida y el optimizador, además de otras métricas a calcular durante el entrenamiento y evaluación."
      ],
      "metadata": {
        "id": "zGnfYDU0HClu"
      }
    },
    {
      "cell_type": "code",
      "source": [
        "model.compile(loss='sparse_categorical_crossentropy', optimizer='adam', metrics=['accuracy'])"
      ],
      "metadata": {
        "id": "4WUC5dmlHZC6"
      },
      "execution_count": null,
      "outputs": []
    },
    {
      "cell_type": "code",
      "source": [
        "history = model.fit(X_train, y_train, epochs=30, validation_data = (X_valid, y_valid))"
      ],
      "metadata": {
        "id": "FPkFuvdLHwr4",
        "colab": {
          "base_uri": "https://localhost:8080/"
        },
        "outputId": "f9a06dc4-26a7-489e-e045-6b8a07fceeb2"
      },
      "execution_count": null,
      "outputs": [
        {
          "output_type": "stream",
          "name": "stdout",
          "text": [
            "Epoch 1/30\n",
            "1719/1719 [==============================] - 13s 6ms/step - loss: 0.2036 - accuracy: 0.9379 - val_loss: 0.0998 - val_accuracy: 0.9706\n",
            "Epoch 2/30\n",
            "1719/1719 [==============================] - 7s 4ms/step - loss: 0.0946 - accuracy: 0.9705 - val_loss: 0.1101 - val_accuracy: 0.9674\n",
            "Epoch 3/30\n",
            "1719/1719 [==============================] - 5s 3ms/step - loss: 0.0710 - accuracy: 0.9772 - val_loss: 0.0945 - val_accuracy: 0.9738\n",
            "Epoch 4/30\n",
            "1719/1719 [==============================] - 6s 4ms/step - loss: 0.0582 - accuracy: 0.9818 - val_loss: 0.1163 - val_accuracy: 0.9722\n",
            "Epoch 5/30\n",
            "1719/1719 [==============================] - 5s 3ms/step - loss: 0.0501 - accuracy: 0.9848 - val_loss: 0.1040 - val_accuracy: 0.9766\n",
            "Epoch 6/30\n",
            "1719/1719 [==============================] - 6s 3ms/step - loss: 0.0470 - accuracy: 0.9851 - val_loss: 0.1007 - val_accuracy: 0.9756\n",
            "Epoch 7/30\n",
            "1719/1719 [==============================] - 5s 3ms/step - loss: 0.0384 - accuracy: 0.9881 - val_loss: 0.1102 - val_accuracy: 0.9750\n",
            "Epoch 8/30\n",
            "1719/1719 [==============================] - 6s 3ms/step - loss: 0.0372 - accuracy: 0.9888 - val_loss: 0.1029 - val_accuracy: 0.9796\n",
            "Epoch 9/30\n",
            "1719/1719 [==============================] - 7s 4ms/step - loss: 0.0342 - accuracy: 0.9902 - val_loss: 0.1110 - val_accuracy: 0.9790\n",
            "Epoch 10/30\n",
            "1719/1719 [==============================] - 6s 3ms/step - loss: 0.0333 - accuracy: 0.9905 - val_loss: 0.1232 - val_accuracy: 0.9768\n",
            "Epoch 11/30\n",
            "1719/1719 [==============================] - 6s 3ms/step - loss: 0.0331 - accuracy: 0.9909 - val_loss: 0.1286 - val_accuracy: 0.9762\n",
            "Epoch 12/30\n",
            "1719/1719 [==============================] - 6s 3ms/step - loss: 0.0315 - accuracy: 0.9911 - val_loss: 0.1625 - val_accuracy: 0.9760\n",
            "Epoch 13/30\n",
            "1719/1719 [==============================] - 6s 3ms/step - loss: 0.0258 - accuracy: 0.9925 - val_loss: 0.1534 - val_accuracy: 0.9774\n",
            "Epoch 14/30\n",
            "1719/1719 [==============================] - 5s 3ms/step - loss: 0.0268 - accuracy: 0.9933 - val_loss: 0.1470 - val_accuracy: 0.9792\n",
            "Epoch 15/30\n",
            "1719/1719 [==============================] - 6s 3ms/step - loss: 0.0289 - accuracy: 0.9929 - val_loss: 0.1394 - val_accuracy: 0.9786\n",
            "Epoch 16/30\n",
            "1719/1719 [==============================] - 5s 3ms/step - loss: 0.0261 - accuracy: 0.9934 - val_loss: 0.1434 - val_accuracy: 0.9778\n",
            "Epoch 17/30\n",
            "1719/1719 [==============================] - 6s 3ms/step - loss: 0.0296 - accuracy: 0.9928 - val_loss: 0.1745 - val_accuracy: 0.9784\n",
            "Epoch 18/30\n",
            "1719/1719 [==============================] - 5s 3ms/step - loss: 0.0237 - accuracy: 0.9940 - val_loss: 0.1606 - val_accuracy: 0.9784\n",
            "Epoch 19/30\n",
            "1719/1719 [==============================] - 6s 3ms/step - loss: 0.0297 - accuracy: 0.9934 - val_loss: 0.1793 - val_accuracy: 0.9818\n",
            "Epoch 20/30\n",
            "1719/1719 [==============================] - 5s 3ms/step - loss: 0.0243 - accuracy: 0.9940 - val_loss: 0.2061 - val_accuracy: 0.9804\n",
            "Epoch 21/30\n",
            "1719/1719 [==============================] - 6s 4ms/step - loss: 0.0282 - accuracy: 0.9941 - val_loss: 0.2388 - val_accuracy: 0.9792\n",
            "Epoch 22/30\n",
            "1719/1719 [==============================] - 5s 3ms/step - loss: 0.0252 - accuracy: 0.9945 - val_loss: 0.2081 - val_accuracy: 0.9792\n",
            "Epoch 23/30\n",
            "1719/1719 [==============================] - 6s 4ms/step - loss: 0.0282 - accuracy: 0.9943 - val_loss: 0.2612 - val_accuracy: 0.9812\n",
            "Epoch 24/30\n",
            "1719/1719 [==============================] - 5s 3ms/step - loss: 0.0278 - accuracy: 0.9940 - val_loss: 0.2039 - val_accuracy: 0.9772\n",
            "Epoch 25/30\n",
            "1719/1719 [==============================] - 6s 4ms/step - loss: 0.0275 - accuracy: 0.9948 - val_loss: 0.2745 - val_accuracy: 0.9748\n",
            "Epoch 26/30\n",
            "1719/1719 [==============================] - 5s 3ms/step - loss: 0.0224 - accuracy: 0.9953 - val_loss: 0.2040 - val_accuracy: 0.9824\n",
            "Epoch 27/30\n",
            "1719/1719 [==============================] - 6s 3ms/step - loss: 0.0253 - accuracy: 0.9950 - val_loss: 0.2777 - val_accuracy: 0.9776\n",
            "Epoch 28/30\n",
            "1719/1719 [==============================] - 6s 3ms/step - loss: 0.0252 - accuracy: 0.9951 - val_loss: 0.2579 - val_accuracy: 0.9786\n",
            "Epoch 29/30\n",
            "1719/1719 [==============================] - 5s 3ms/step - loss: 0.0218 - accuracy: 0.9956 - val_loss: 0.3645 - val_accuracy: 0.9740\n",
            "Epoch 30/30\n",
            "1719/1719 [==============================] - 6s 3ms/step - loss: 0.0231 - accuracy: 0.9953 - val_loss: 0.2704 - val_accuracy: 0.9814\n"
          ]
        }
      ]
    },
    {
      "cell_type": "code",
      "source": [
        "pd.DataFrame(history.history).plot(figsize=(8,5))\n",
        "plt.grid(True)\n",
        "plt.gca().set_ylim(0.0,1) # modifica el rango del eje y\n",
        "plt.show()"
      ],
      "metadata": {
        "colab": {
          "base_uri": "https://localhost:8080/",
          "height": 451
        },
        "id": "GmDawvcZPvp3",
        "outputId": "e13f0dfb-6d6c-439e-e485-e873736a509c"
      },
      "execution_count": null,
      "outputs": [
        {
          "output_type": "display_data",
          "data": {
            "text/plain": [
              "<Figure size 800x500 with 1 Axes>"
            ],
            "image/png": "[encoded data removed]"
          },
          "metadata": {}
        }
      ]
    },
    {
      "cell_type": "markdown",
      "source": [
        "### Evaluación del modelo obtenido y predicciones para datos que no ha visto antes"
      ],
      "metadata": {
        "id": "Hr9UrL031BYd"
      }
    },
    {
      "cell_type": "markdown",
      "source": [],
      "metadata": {
        "id": "Ol9k1moz1BVm"
      }
    },
    {
      "cell_type": "markdown",
      "source": [
        "Para realizar la evaluación final del modelo se utilizar el método `evaluate()` pasando como argumentos `X_test` y `y_test`."
      ],
      "metadata": {
        "id": "8MtoryoJmvo3"
      }
    },
    {
      "cell_type": "code",
      "source": [
        "model.evaluate(X_test,y_test)"
      ],
      "metadata": {
        "colab": {
          "base_uri": "https://localhost:8080/"
        },
        "id": "qQN6Dx_ZRtlZ",
        "outputId": "e8b4fd11-4e67-49ec-c74d-bb015173b54b"
      },
      "execution_count": null,
      "outputs": [
        {
          "output_type": "stream",
          "name": "stdout",
          "text": [
            "313/313 [==============================] - 1s 2ms/step - loss: 59.6784 - accuracy: 0.9806\n"
          ]
        },
        {
          "output_type": "execute_result",
          "data": {
            "text/plain": [
              "[59.67836380004883, 0.9805999994277954]"
            ]
          },
          "metadata": {},
          "execution_count": 20
        }
      ]
    },
    {
      "cell_type": "markdown",
      "source": [
        "Igual que Scikit Learn, es posible predecir las etiquetas del conjunto de prueba. Noten que regresa un arreglo con todas las predicciones."
      ],
      "metadata": {
        "id": "t_XYSDKtm7XO"
      }
    },
    {
      "cell_type": "code",
      "source": [
        "predictions = model.predict(X_test)"
      ],
      "metadata": {
        "id": "YVs5BCUZjG29",
        "colab": {
          "base_uri": "https://localhost:8080/"
        },
        "outputId": "79e5b5d5-a92f-4424-b674-f7cb17e09c3c"
      },
      "execution_count": null,
      "outputs": [
        {
          "output_type": "stream",
          "name": "stdout",
          "text": [
            "313/313 [==============================] - 1s 1ms/step\n"
          ]
        }
      ]
    },
    {
      "cell_type": "markdown",
      "source": [
        "¿Cómo se ve la predicción? Es un arreglo de (en este caso) 10 clases, donde a cada entrada se le asigna un valor de 'probabilidad'. Para determinar el valor final de la clase, se considera el más alto entre todos ellos."
      ],
      "metadata": {
        "id": "sH-v_GTnnHQN"
      }
    },
    {
      "cell_type": "code",
      "source": [
        "predictions[769]"
      ],
      "metadata": {
        "colab": {
          "base_uri": "https://localhost:8080/"
        },
        "id": "cMoDap1KEzlp",
        "outputId": "5ba905c7-7271-48b8-b5a7-a190c03d4416"
      },
      "execution_count": null,
      "outputs": [
        {
          "output_type": "execute_result",
          "data": {
            "text/plain": [
              "array([0., 0., 0., 0., 0., 0., 1., 0., 0., 0.], dtype=float32)"
            ]
          },
          "metadata": {},
          "execution_count": 22
        }
      ]
    },
    {
      "cell_type": "code",
      "source": [
        "np.argmax(predictions[769])"
      ],
      "metadata": {
        "colab": {
          "base_uri": "https://localhost:8080/"
        },
        "id": "VQsrgPFWE2WQ",
        "outputId": "7feeea7c-8c03-4b40-f0b2-fa965d70a185"
      },
      "execution_count": null,
      "outputs": [
        {
          "output_type": "execute_result",
          "data": {
            "text/plain": [
              "6"
            ]
          },
          "metadata": {},
          "execution_count": 23
        }
      ]
    },
    {
      "cell_type": "code",
      "source": [
        "class_names = ['0', '1', '2', '3', '4', '5', '6', '7', '8', '9']"
      ],
      "metadata": {
        "id": "yb1Tkw3ZFeKr"
      },
      "execution_count": null,
      "outputs": []
    },
    {
      "cell_type": "code",
      "source": [
        "def plot_image(i, predictions_array, true_label, img):\n",
        "  predictions_array, true_label, img = predictions_array, true_label[i], img[i]\n",
        "  plt.grid(False)\n",
        "  plt.xticks([])\n",
        "  plt.yticks([])\n",
        "\n",
        "  plt.imshow(img, cmap=plt.cm.binary)\n",
        "\n",
        "  predicted_label = np.argmax(predictions_array)\n",
        "  if predicted_label == true_label:\n",
        "    color = 'blue'\n",
        "  else:\n",
        "    color = 'red'\n",
        "\n",
        "  plt.xlabel(\"{} {:2.0f}% ({})\".format(class_names[predicted_label],\n",
        "                                100*np.max(predictions_array),\n",
        "                                class_names[true_label]),\n",
        "                                color=color)"
      ],
      "metadata": {
        "id": "FJKc3c10FDbw"
      },
      "execution_count": null,
      "outputs": []
    },
    {
      "cell_type": "code",
      "source": [
        "def plot_value_array(i, predictions_array, true_label):\n",
        "  predictions_array, true_label = predictions_array, true_label[i]\n",
        "  plt.grid(False)\n",
        "  plt.xticks(range(10))\n",
        "  plt.yticks([])\n",
        "  thisplot = plt.bar(range(10), predictions_array, color=\"#777777\")\n",
        "  plt.ylim([0, 1])\n",
        "  predicted_label = np.argmax(predictions_array)\n",
        "\n",
        "  thisplot[predicted_label].set_color('red')\n",
        "  thisplot[true_label].set_color('blue')"
      ],
      "metadata": {
        "id": "A0BijqY8FFUz"
      },
      "execution_count": null,
      "outputs": []
    },
    {
      "cell_type": "code",
      "source": [
        "i = 769\n",
        "plt.figure(figsize=(6,3))\n",
        "plt.subplot(1,2,1)\n",
        "plot_image(i, predictions[i], y_test, X_test)\n",
        "plt.subplot(1,2,2)\n",
        "plot_value_array(i, predictions[i],  y_test)\n",
        "plt.show()"
      ],
      "metadata": {
        "colab": {
          "base_uri": "https://localhost:8080/",
          "height": 291
        },
        "id": "bT1Jykg7FKNQ",
        "outputId": "4f769421-612d-42b8-89e2-e25497f044bf"
      },
      "execution_count": null,
      "outputs": [
        {
          "output_type": "display_data",
          "data": {
            "text/plain": [
              "<Figure size 600x300 with 2 Axes>"
            ],
            "image/png": "[encoded data removed]"
          },
          "metadata": {}
        }
      ]
    },
    {
      "cell_type": "markdown",
      "source": [
        "### Guardar un modelo para después y cargarlo\n"
      ],
      "metadata": {
        "id": "B7MyJcW01P-f"
      }
    },
    {
      "cell_type": "markdown",
      "source": [
        "La **mayoría** de los modelos de redes neuronales toman tiempo en entrenarse. ¿Qué sucede si un modelo tarda en entrenarse 1 semana o 1 mes? En esos casos, vamos a guardar nuestras redes neuronales entrenadas para cargarlas cuando sea necesario.\n",
        "\n",
        "En este caso, utilizaremos el formato de archivo HDF5, que guarda tanto la arquitectura del modelo como los valores de todos los parámetros del modelo."
      ],
      "metadata": {
        "id": "B9hmv1Bih3gy"
      }
    },
    {
      "cell_type": "code",
      "source": [
        "model.save(\"keras_model.h5\")"
      ],
      "metadata": {
        "id": "Efq51yhfiUbO"
      },
      "execution_count": null,
      "outputs": []
    },
    {
      "cell_type": "markdown",
      "source": [
        "¿Y para cargarlo en otro momento? "
      ],
      "metadata": {
        "id": "3v-DS5Kqit3a"
      }
    },
    {
      "cell_type": "code",
      "source": [
        "other_model = keras.models.load_model('keras_model.h5')"
      ],
      "metadata": {
        "id": "_LElFdC8itea"
      },
      "execution_count": null,
      "outputs": []
    },
    {
      "cell_type": "markdown",
      "source": [
        "¿Qué sucede si no obtengo un buen rendimiento? ¡Debemos tunear los parámetros¡\n",
        "\n",
        "\n",
        "* El primer parámetro que debe uno revisar es la taza de aprendizaje del Gradiente. Entre más pequeña sea, más tarda en converger.\n",
        "* La segunda opción es ajustar distintos **hiperparámetros** del modelo:\n",
        " * Número de capas\n",
        " * Número de neuronas por capa\n",
        " * Las funciones de activación\n",
        "* Otra opción es ajustar el tamaño del batch (por default 32).\n",
        "\n"
      ],
      "metadata": {
        "id": "xoYtz4AG1II_"
      }
    },
    {
      "cell_type": "markdown",
      "source": [
        "## Actividad 1"
      ],
      "metadata": {
        "id": "KhFEwhdwx7OF"
      }
    },
    {
      "cell_type": "markdown",
      "source": [
        "Implementar el early stopping como lo sugiere [tensorflow](https://keras.io/api/callbacks/early_stopping). Reentrenar el modelo y obtener la gráfica accuracy vs epochs correspondiente."
      ],
      "metadata": {
        "id": "F0bEebmM8EuE"
      }
    },
    {
      "cell_type": "code",
      "source": [
        "#implementamos el modelo dado por la práctica\n",
        "model = keras.models.Sequential() #crea un modelo secuencial, el más simple en Keras\n",
        "model.add(keras.layers.Flatten(input_shape = (28,28))) # la capa de entrada, Flatten covierte las imagenes en objetos de una dimension\n",
        "model.add(keras.layers.Dense(512, kernel_initializer = 'he_normal')) # la capa densa compuesta por 512 neuronas\n",
        "model.add(keras.layers.LeakyReLU(alpha=0.2))\n",
        "# model.add(keras.layers.Dropout(0.2))\n",
        "model.add(keras.layers.Dense(512, activation='relu')) # segunda capa densa compuesta por 512 neuronas\n",
        "# model.add(keras.layers.Dropout(0.2))\n",
        "model.add(keras.layers.Dense(10, activation='softmax')) # la capa de salida, una neurona por clase"
      ],
      "metadata": {
        "id": "v_l0gbg5dpoD"
      },
      "execution_count": null,
      "outputs": []
    },
    {
      "cell_type": "code",
      "source": [
        "#se añade el callback del early stopping, con paciencia de dos epochs\n",
        "#Monitoreamos val_loss y la condicion de paro es el numero de epochs\n",
        "#los demás parámetros son los default\n",
        "callback = tf.keras.callbacks.EarlyStopping(monitor = 'val_loss', patience = 2)"
      ],
      "metadata": {
        "id": "tZiUJP0oe3Bl"
      },
      "execution_count": null,
      "outputs": []
    },
    {
      "cell_type": "code",
      "source": [
        "#compilar el modelo (funcion de perdida y para optimizar y con que evaluar)\n",
        "model.compile(loss = 'sparse_categorical_crossentropy', optimizer = 'sgd', metrics = ['accuracy'])"
      ],
      "metadata": {
        "id": "HNe3_WYphhLJ"
      },
      "execution_count": null,
      "outputs": []
    },
    {
      "cell_type": "code",
      "source": [
        "#empezamos a ajustar ya con el callback\n",
        "#ahora ponemos 100 epochs para ver como funciona el early stopping\n",
        "#Tras implementar el early stopping tenemos que se frena en la epoch 34\n",
        "history = model.fit(X_train, y_train, epochs = 100, validation_data = (X_valid, y_valid), callbacks=[callback])"
      ],
      "metadata": {
        "colab": {
          "base_uri": "https://localhost:8080/"
        },
        "id": "SorsJHmtg_f0",
        "outputId": "5c6cdad8-dd5d-4da4-a2ed-1e7ae62cdcdd"
      },
      "execution_count": null,
      "outputs": [
        {
          "output_type": "stream",
          "name": "stdout",
          "text": [
            "Epoch 1/100\n",
            "1719/1719 [==============================] - 7s 3ms/step - loss: 0.5585 - accuracy: 0.8570 - val_loss: 0.3000 - val_accuracy: 0.9162\n",
            "Epoch 2/100\n",
            "1719/1719 [==============================] - 5s 3ms/step - loss: 0.2854 - accuracy: 0.9183 - val_loss: 0.2374 - val_accuracy: 0.9356\n",
            "Epoch 3/100\n",
            "1719/1719 [==============================] - 6s 3ms/step - loss: 0.2368 - accuracy: 0.9329 - val_loss: 0.2048 - val_accuracy: 0.9430\n",
            "Epoch 4/100\n",
            "1719/1719 [==============================] - 6s 3ms/step - loss: 0.2057 - accuracy: 0.9417 - val_loss: 0.1839 - val_accuracy: 0.9492\n",
            "Epoch 5/100\n",
            "1719/1719 [==============================] - 5s 3ms/step - loss: 0.1814 - accuracy: 0.9482 - val_loss: 0.1661 - val_accuracy: 0.9540\n",
            "Epoch 6/100\n",
            "1719/1719 [==============================] - 6s 3ms/step - loss: 0.1631 - accuracy: 0.9539 - val_loss: 0.1537 - val_accuracy: 0.9606\n",
            "Epoch 7/100\n",
            "1719/1719 [==============================] - 5s 3ms/step - loss: 0.1475 - accuracy: 0.9579 - val_loss: 0.1403 - val_accuracy: 0.9620\n",
            "Epoch 8/100\n",
            "1719/1719 [==============================] - 6s 3ms/step - loss: 0.1347 - accuracy: 0.9623 - val_loss: 0.1292 - val_accuracy: 0.9664\n",
            "Epoch 9/100\n",
            "1719/1719 [==============================] - 5s 3ms/step - loss: 0.1234 - accuracy: 0.9646 - val_loss: 0.1244 - val_accuracy: 0.9668\n",
            "Epoch 10/100\n",
            "1719/1719 [==============================] - 6s 3ms/step - loss: 0.1138 - accuracy: 0.9679 - val_loss: 0.1171 - val_accuracy: 0.9688\n",
            "Epoch 11/100\n",
            "1719/1719 [==============================] - 5s 3ms/step - loss: 0.1055 - accuracy: 0.9703 - val_loss: 0.1111 - val_accuracy: 0.9702\n",
            "Epoch 12/100\n",
            "1719/1719 [==============================] - 6s 3ms/step - loss: 0.0982 - accuracy: 0.9724 - val_loss: 0.1057 - val_accuracy: 0.9710\n",
            "Epoch 13/100\n",
            "1719/1719 [==============================] - 5s 3ms/step - loss: 0.0918 - accuracy: 0.9744 - val_loss: 0.1041 - val_accuracy: 0.9704\n",
            "Epoch 14/100\n",
            "1719/1719 [==============================] - 5s 3ms/step - loss: 0.0859 - accuracy: 0.9761 - val_loss: 0.0971 - val_accuracy: 0.9732\n",
            "Epoch 15/100\n",
            "1719/1719 [==============================] - 6s 3ms/step - loss: 0.0807 - accuracy: 0.9778 - val_loss: 0.0940 - val_accuracy: 0.9752\n",
            "Epoch 16/100\n",
            "1719/1719 [==============================] - 6s 3ms/step - loss: 0.0757 - accuracy: 0.9789 - val_loss: 0.0923 - val_accuracy: 0.9744\n",
            "Epoch 17/100\n",
            "1719/1719 [==============================] - 6s 3ms/step - loss: 0.0716 - accuracy: 0.9807 - val_loss: 0.0894 - val_accuracy: 0.9750\n",
            "Epoch 18/100\n",
            "1719/1719 [==============================] - 5s 3ms/step - loss: 0.0674 - accuracy: 0.9818 - val_loss: 0.0872 - val_accuracy: 0.9764\n",
            "Epoch 19/100\n",
            "1719/1719 [==============================] - 6s 3ms/step - loss: 0.0634 - accuracy: 0.9827 - val_loss: 0.0835 - val_accuracy: 0.9766\n",
            "Epoch 20/100\n",
            "1719/1719 [==============================] - 5s 3ms/step - loss: 0.0600 - accuracy: 0.9836 - val_loss: 0.0829 - val_accuracy: 0.9762\n",
            "Epoch 21/100\n",
            "1719/1719 [==============================] - 6s 3ms/step - loss: 0.0567 - accuracy: 0.9847 - val_loss: 0.0826 - val_accuracy: 0.9770\n",
            "Epoch 22/100\n",
            "1719/1719 [==============================] - 5s 3ms/step - loss: 0.0538 - accuracy: 0.9853 - val_loss: 0.0783 - val_accuracy: 0.9780\n",
            "Epoch 23/100\n",
            "1719/1719 [==============================] - 6s 3ms/step - loss: 0.0510 - accuracy: 0.9863 - val_loss: 0.0777 - val_accuracy: 0.9786\n",
            "Epoch 24/100\n",
            "1719/1719 [==============================] - 5s 3ms/step - loss: 0.0484 - accuracy: 0.9872 - val_loss: 0.0756 - val_accuracy: 0.9790\n",
            "Epoch 25/100\n",
            "1719/1719 [==============================] - 6s 3ms/step - loss: 0.0458 - accuracy: 0.9878 - val_loss: 0.0758 - val_accuracy: 0.9786\n",
            "Epoch 26/100\n",
            "1719/1719 [==============================] - 5s 3ms/step - loss: 0.0436 - accuracy: 0.9885 - val_loss: 0.0749 - val_accuracy: 0.9782\n",
            "Epoch 27/100\n",
            "1719/1719 [==============================] - 6s 3ms/step - loss: 0.0413 - accuracy: 0.9895 - val_loss: 0.0737 - val_accuracy: 0.9794\n",
            "Epoch 28/100\n",
            "1719/1719 [==============================] - 6s 3ms/step - loss: 0.0393 - accuracy: 0.9899 - val_loss: 0.0757 - val_accuracy: 0.9790\n",
            "Epoch 29/100\n",
            "1719/1719 [==============================] - 6s 3ms/step - loss: 0.0376 - accuracy: 0.9906 - val_loss: 0.0716 - val_accuracy: 0.9796\n",
            "Epoch 30/100\n",
            "1719/1719 [==============================] - 6s 4ms/step - loss: 0.0356 - accuracy: 0.9912 - val_loss: 0.0710 - val_accuracy: 0.9798\n",
            "Epoch 31/100\n",
            "1719/1719 [==============================] - 5s 3ms/step - loss: 0.0338 - accuracy: 0.9916 - val_loss: 0.0710 - val_accuracy: 0.9804\n",
            "Epoch 32/100\n",
            "1719/1719 [==============================] - 6s 3ms/step - loss: 0.0324 - accuracy: 0.9921 - val_loss: 0.0685 - val_accuracy: 0.9804\n",
            "Epoch 33/100\n",
            "1719/1719 [==============================] - 5s 3ms/step - loss: 0.0308 - accuracy: 0.9925 - val_loss: 0.0702 - val_accuracy: 0.9812\n",
            "Epoch 34/100\n",
            "1719/1719 [==============================] - 6s 4ms/step - loss: 0.0293 - accuracy: 0.9930 - val_loss: 0.0690 - val_accuracy: 0.9798\n"
          ]
        }
      ]
    },
    {
      "cell_type": "code",
      "source": [
        "#Se muestra el gráfico, se ve que se detiene en el epoch 34\n",
        "pd.DataFrame(history.history).plot(figsize=(8,5))\n",
        "plt.grid(True)\n",
        "plt.gca().set_ylim(0.0,1) # modifica el rango del eje y\n",
        "plt.show()"
      ],
      "metadata": {
        "colab": {
          "base_uri": "https://localhost:8080/",
          "height": 451
        },
        "id": "tZfJnMWCiWao",
        "outputId": "35ce7024-d8fe-416b-c21d-82d2768d24e3"
      },
      "execution_count": null,
      "outputs": [
        {
          "output_type": "display_data",
          "data": {
            "text/plain": [
              "<Figure size 800x500 with 1 Axes>"
            ],
            "image/png": "[encoded data removed]"
          },
          "metadata": {}
        }
      ]
    },
    {
      "cell_type": "code",
      "source": [
        "model.evaluate(X_test,y_test)"
      ],
      "metadata": {
        "colab": {
          "base_uri": "https://localhost:8080/"
        },
        "id": "6R49tpETkdJG",
        "outputId": "a53ed27c-92dc-4a18-fd8e-94f222eb87d8"
      },
      "execution_count": null,
      "outputs": [
        {
          "output_type": "stream",
          "name": "stdout",
          "text": [
            "313/313 [==============================] - 1s 3ms/step - loss: 11.1464 - accuracy: 0.9767\n"
          ]
        },
        {
          "output_type": "execute_result",
          "data": {
            "text/plain": [
              "[11.146380424499512, 0.9767000079154968]"
            ]
          },
          "metadata": {},
          "execution_count": 36
        }
      ]
    },
    {
      "cell_type": "markdown",
      "source": [
        "Se añade el early stopping y se revisa el parámetro val_loss. En este caso se hace el early stopping considerando el número de epochs. Se utiliza un parámetro de paciencia de dos. Es decir que si no hay mejora en el error tras dos epochs, se termina el entrenamiento del modelo. En este caso se puede observar de la gráfica y los resultados que el tope es en 34 epochs.\n",
        "\n",
        "En este caso el loss es de 11.1464 y el accuracy es de 0.9767. "
      ],
      "metadata": {
        "id": "lVonZSsJkeWX"
      }
    },
    {
      "cell_type": "markdown",
      "source": [
        "## Actividad 2"
      ],
      "metadata": {
        "id": "wY4tSAJPykdx"
      }
    },
    {
      "cell_type": "markdown",
      "source": [
        "**Práctica 2:** ¿Qué le pasa a nuestra métrica de evaluación (*accuracy*) si introducimos o modificamos algunos hiperparámetros de la red? Jueguen con el valor del Dropout, número de capas y/o número de neuronas por capa en la red neuronal. Para cada experimento, modificar el código anterior y obtener gráficas accuracy vs epochs correspondientes."
      ],
      "metadata": {
        "id": "6hL_CQD-8f_O"
      }
    },
    {
      "cell_type": "markdown",
      "source": [
        "Primero Juguemos con el drop out, le quitamos lo comentado y lo ponemos con valor de 0.30"
      ],
      "metadata": {
        "id": "Pnjnmoy_k6L8"
      }
    },
    {
      "cell_type": "code",
      "source": [
        "model = keras.models.Sequential() #crea un modelo secuencial, el más simple en Keras\n",
        "model.add(keras.layers.Flatten(input_shape = (28,28))) # la capa de entrada, Flatten covierte las imagenes en objetos de una dimension\n",
        "model.add(keras.layers.Dense(512, kernel_initializer = 'he_normal')) # la capa densa compuesta por 512 neuronas\n",
        "model.add(keras.layers.LeakyReLU(alpha=0.2))\n",
        "model.add(keras.layers.Dropout(0.3))\n",
        "model.add(keras.layers.Dense(512, activation='relu')) # segunda capa densa compuesta por 512 neuronas\n",
        "model.add(keras.layers.Dropout(0.3))\n",
        "model.add(keras.layers.Dense(10, activation='softmax')) # la capa de salida, una neurona por clase"
      ],
      "metadata": {
        "id": "209z9Uvwk5yn"
      },
      "execution_count": null,
      "outputs": []
    },
    {
      "cell_type": "code",
      "source": [
        "model.compile(loss='sparse_categorical_crossentropy', optimizer='adam', metrics=['accuracy'])"
      ],
      "metadata": {
        "id": "gA35iErek00L"
      },
      "execution_count": null,
      "outputs": []
    },
    {
      "cell_type": "code",
      "source": [
        "history = model.fit(X_train, y_train, epochs=30, validation_data = (X_valid, y_valid))"
      ],
      "metadata": {
        "colab": {
          "base_uri": "https://localhost:8080/"
        },
        "id": "0MCXFtEalZZ4",
        "outputId": "112ed4e8-d440-4ec6-e2fb-5631f3fc7b4c"
      },
      "execution_count": null,
      "outputs": [
        {
          "output_type": "stream",
          "name": "stdout",
          "text": [
            "Epoch 1/30\n",
            "1719/1719 [==============================] - 8s 4ms/step - loss: 0.2565 - accuracy: 0.9220 - val_loss: 0.1181 - val_accuracy: 0.9670\n",
            "Epoch 2/30\n",
            "1719/1719 [==============================] - 6s 3ms/step - loss: 0.1410 - accuracy: 0.9569 - val_loss: 0.0934 - val_accuracy: 0.9728\n",
            "Epoch 3/30\n",
            "1719/1719 [==============================] - 6s 4ms/step - loss: 0.1182 - accuracy: 0.9638 - val_loss: 0.0796 - val_accuracy: 0.9788\n",
            "Epoch 4/30\n",
            "1719/1719 [==============================] - 6s 3ms/step - loss: 0.1076 - accuracy: 0.9679 - val_loss: 0.0839 - val_accuracy: 0.9778\n",
            "Epoch 5/30\n",
            "1719/1719 [==============================] - 6s 4ms/step - loss: 0.0969 - accuracy: 0.9706 - val_loss: 0.0917 - val_accuracy: 0.9772\n",
            "Epoch 6/30\n",
            "1719/1719 [==============================] - 6s 3ms/step - loss: 0.0913 - accuracy: 0.9727 - val_loss: 0.0812 - val_accuracy: 0.9780\n",
            "Epoch 7/30\n",
            "1719/1719 [==============================] - 7s 4ms/step - loss: 0.0883 - accuracy: 0.9746 - val_loss: 0.0787 - val_accuracy: 0.9788\n",
            "Epoch 8/30\n",
            "1719/1719 [==============================] - 6s 3ms/step - loss: 0.0843 - accuracy: 0.9754 - val_loss: 0.0909 - val_accuracy: 0.9730\n",
            "Epoch 9/30\n",
            "1719/1719 [==============================] - 6s 4ms/step - loss: 0.0827 - accuracy: 0.9765 - val_loss: 0.0859 - val_accuracy: 0.9790\n",
            "Epoch 10/30\n",
            "1719/1719 [==============================] - 6s 3ms/step - loss: 0.0773 - accuracy: 0.9771 - val_loss: 0.0961 - val_accuracy: 0.9782\n",
            "Epoch 11/30\n",
            "1719/1719 [==============================] - 6s 4ms/step - loss: 0.0828 - accuracy: 0.9765 - val_loss: 0.0803 - val_accuracy: 0.9826\n",
            "Epoch 12/30\n",
            "1719/1719 [==============================] - 6s 3ms/step - loss: 0.0745 - accuracy: 0.9790 - val_loss: 0.0926 - val_accuracy: 0.9806\n",
            "Epoch 13/30\n",
            "1719/1719 [==============================] - 7s 4ms/step - loss: 0.0768 - accuracy: 0.9790 - val_loss: 0.1189 - val_accuracy: 0.9786\n",
            "Epoch 14/30\n",
            "1719/1719 [==============================] - 6s 3ms/step - loss: 0.0740 - accuracy: 0.9803 - val_loss: 0.0997 - val_accuracy: 0.9810\n",
            "Epoch 15/30\n",
            "1719/1719 [==============================] - 6s 4ms/step - loss: 0.0768 - accuracy: 0.9802 - val_loss: 0.1049 - val_accuracy: 0.9804\n",
            "Epoch 16/30\n",
            "1719/1719 [==============================] - 6s 3ms/step - loss: 0.0728 - accuracy: 0.9803 - val_loss: 0.1240 - val_accuracy: 0.9810\n",
            "Epoch 17/30\n",
            "1719/1719 [==============================] - 6s 4ms/step - loss: 0.0722 - accuracy: 0.9807 - val_loss: 0.1083 - val_accuracy: 0.9780\n",
            "Epoch 18/30\n",
            "1719/1719 [==============================] - 6s 3ms/step - loss: 0.0800 - accuracy: 0.9793 - val_loss: 0.1065 - val_accuracy: 0.9782\n",
            "Epoch 19/30\n",
            "1719/1719 [==============================] - 6s 4ms/step - loss: 0.0729 - accuracy: 0.9813 - val_loss: 0.1432 - val_accuracy: 0.9786\n",
            "Epoch 20/30\n",
            "1719/1719 [==============================] - 6s 3ms/step - loss: 0.0786 - accuracy: 0.9813 - val_loss: 0.1041 - val_accuracy: 0.9808\n",
            "Epoch 21/30\n",
            "1719/1719 [==============================] - 6s 4ms/step - loss: 0.0703 - accuracy: 0.9820 - val_loss: 0.1190 - val_accuracy: 0.9822\n",
            "Epoch 22/30\n",
            "1719/1719 [==============================] - 6s 3ms/step - loss: 0.0725 - accuracy: 0.9816 - val_loss: 0.1043 - val_accuracy: 0.9826\n",
            "Epoch 23/30\n",
            "1719/1719 [==============================] - 6s 4ms/step - loss: 0.0685 - accuracy: 0.9827 - val_loss: 0.1161 - val_accuracy: 0.9812\n",
            "Epoch 24/30\n",
            "1719/1719 [==============================] - 6s 3ms/step - loss: 0.0693 - accuracy: 0.9831 - val_loss: 0.1970 - val_accuracy: 0.9748\n",
            "Epoch 25/30\n",
            "1719/1719 [==============================] - 6s 4ms/step - loss: 0.0722 - accuracy: 0.9829 - val_loss: 0.1584 - val_accuracy: 0.9804\n",
            "Epoch 26/30\n",
            "1719/1719 [==============================] - 6s 3ms/step - loss: 0.0707 - accuracy: 0.9825 - val_loss: 0.1351 - val_accuracy: 0.9808\n",
            "Epoch 27/30\n",
            "1719/1719 [==============================] - 6s 4ms/step - loss: 0.0697 - accuracy: 0.9836 - val_loss: 0.1302 - val_accuracy: 0.9814\n",
            "Epoch 28/30\n",
            "1719/1719 [==============================] - 6s 3ms/step - loss: 0.0661 - accuracy: 0.9837 - val_loss: 0.1226 - val_accuracy: 0.9784\n",
            "Epoch 29/30\n",
            "1719/1719 [==============================] - 6s 4ms/step - loss: 0.0702 - accuracy: 0.9833 - val_loss: 0.1375 - val_accuracy: 0.9832\n",
            "Epoch 30/30\n",
            "1719/1719 [==============================] - 6s 3ms/step - loss: 0.0695 - accuracy: 0.9839 - val_loss: 0.1367 - val_accuracy: 0.9800\n"
          ]
        }
      ]
    },
    {
      "cell_type": "code",
      "source": [
        "model.evaluate(X_test,y_test)"
      ],
      "metadata": {
        "colab": {
          "base_uri": "https://localhost:8080/"
        },
        "id": "964zWdZDmNME",
        "outputId": "57dc196e-d50c-4618-e2ff-92e1340445a4"
      },
      "execution_count": null,
      "outputs": [
        {
          "output_type": "stream",
          "name": "stdout",
          "text": [
            "313/313 [==============================] - 1s 2ms/step - loss: 45.7489 - accuracy: 0.9798\n"
          ]
        },
        {
          "output_type": "execute_result",
          "data": {
            "text/plain": [
              "[45.74892044067383, 0.9797999858856201]"
            ]
          },
          "metadata": {},
          "execution_count": 41
        }
      ]
    },
    {
      "cell_type": "markdown",
      "source": [
        "El accuracy del modelo original implementado en clase es de 0.9806 ahora al implementar el dropout el accuracy es de 0.9798, un pequeño decremento. El los del original es de 59.6784 ahora es de 45.7489. Disminuye el error. \n",
        "\n",
        "el Dropout nos permite optimizar el accuracy y disminuir el error."
      ],
      "metadata": {
        "id": "pxqrCpatmRnN"
      }
    },
    {
      "cell_type": "markdown",
      "source": [
        "Ahora añadimos dos capas ocultas más de 512 neuronas al modelo original, con funcion de activaciñon tanh y sigmoide y eliminando el dropout"
      ],
      "metadata": {
        "id": "RfvU669Jm0CO"
      }
    },
    {
      "cell_type": "code",
      "source": [
        "#implementamos el modelo dado por la práctica\n",
        "model = keras.models.Sequential() #crea un modelo secuencial, el más simple en Keras\n",
        "model.add(keras.layers.Flatten(input_shape = (28,28))) # la capa de entrada, Flatten covierte las imagenes en objetos de una dimension\n",
        "model.add(keras.layers.Dense(512, kernel_initializer = 'he_normal')) # la capa densa compuesta por 512 neuronas\n",
        "model.add(keras.layers.LeakyReLU(alpha=0.2))\n",
        "# model.add(keras.layers.Dropout(0.2))\n",
        "model.add(keras.layers.Dense(512, activation='relu')) # segunda capa densa compuesta por 512 neuronas\n",
        "model.add(keras.layers.Dense(512, activation='tanh')) # tercera capa densa compuesta por 512 neuronas y tanh\n",
        "model.add(keras.layers.Dense(512, activation='sigmoid')) # cuarta capa densa compuesta por 512 neuronas y sigmoide\n",
        "# model.add(keras.layers.Dropout(0.2))\n",
        "model.add(keras.layers.Dense(10, activation='softmax')) # la capa de salida, una neurona por clase"
      ],
      "metadata": {
        "id": "__czHPLvm6wb"
      },
      "execution_count": null,
      "outputs": []
    },
    {
      "cell_type": "code",
      "source": [
        "model.compile(loss='sparse_categorical_crossentropy', optimizer='adam', metrics=['accuracy'])"
      ],
      "metadata": {
        "id": "AH6ZM4Hxnom_"
      },
      "execution_count": null,
      "outputs": []
    },
    {
      "cell_type": "code",
      "source": [
        "history = model.fit(X_train, y_train, epochs=30, validation_data = (X_valid, y_valid))"
      ],
      "metadata": {
        "colab": {
          "base_uri": "https://localhost:8080/"
        },
        "id": "7ONFoxZ6nsN9",
        "outputId": "70d9b0b5-4d24-4406-9b28-b484e73bed86"
      },
      "execution_count": null,
      "outputs": [
        {
          "output_type": "stream",
          "name": "stdout",
          "text": [
            "Epoch 1/30\n",
            "1719/1719 [==============================] - 9s 4ms/step - loss: 0.2341 - accuracy: 0.9298 - val_loss: 0.1387 - val_accuracy: 0.9600\n",
            "Epoch 2/30\n",
            "1719/1719 [==============================] - 6s 4ms/step - loss: 0.1107 - accuracy: 0.9668 - val_loss: 0.1003 - val_accuracy: 0.9690\n",
            "Epoch 3/30\n",
            "1719/1719 [==============================] - 7s 4ms/step - loss: 0.0835 - accuracy: 0.9746 - val_loss: 0.0982 - val_accuracy: 0.9722\n",
            "Epoch 4/30\n",
            "1719/1719 [==============================] - 6s 4ms/step - loss: 0.0659 - accuracy: 0.9789 - val_loss: 0.0890 - val_accuracy: 0.9746\n",
            "Epoch 5/30\n",
            "1719/1719 [==============================] - 7s 4ms/step - loss: 0.0558 - accuracy: 0.9825 - val_loss: 0.0875 - val_accuracy: 0.9744\n",
            "Epoch 6/30\n",
            "1719/1719 [==============================] - 6s 4ms/step - loss: 0.0476 - accuracy: 0.9850 - val_loss: 0.0792 - val_accuracy: 0.9762\n",
            "Epoch 7/30\n",
            "1719/1719 [==============================] - 7s 4ms/step - loss: 0.0413 - accuracy: 0.9866 - val_loss: 0.0680 - val_accuracy: 0.9794\n",
            "Epoch 8/30\n",
            "1719/1719 [==============================] - 6s 4ms/step - loss: 0.0378 - accuracy: 0.9881 - val_loss: 0.0772 - val_accuracy: 0.9798\n",
            "Epoch 9/30\n",
            "1719/1719 [==============================] - 7s 4ms/step - loss: 0.0337 - accuracy: 0.9891 - val_loss: 0.0770 - val_accuracy: 0.9812\n",
            "Epoch 10/30\n",
            "1719/1719 [==============================] - 7s 4ms/step - loss: 0.0317 - accuracy: 0.9895 - val_loss: 0.1086 - val_accuracy: 0.9702\n",
            "Epoch 11/30\n",
            "1719/1719 [==============================] - 7s 4ms/step - loss: 0.0273 - accuracy: 0.9913 - val_loss: 0.0683 - val_accuracy: 0.9834\n",
            "Epoch 12/30\n",
            "1719/1719 [==============================] - 6s 4ms/step - loss: 0.0255 - accuracy: 0.9915 - val_loss: 0.0842 - val_accuracy: 0.9804\n",
            "Epoch 13/30\n",
            "1719/1719 [==============================] - 7s 4ms/step - loss: 0.0247 - accuracy: 0.9918 - val_loss: 0.0955 - val_accuracy: 0.9790\n",
            "Epoch 14/30\n",
            "1719/1719 [==============================] - 6s 4ms/step - loss: 0.0232 - accuracy: 0.9923 - val_loss: 0.0993 - val_accuracy: 0.9758\n",
            "Epoch 15/30\n",
            "1719/1719 [==============================] - 6s 4ms/step - loss: 0.0237 - accuracy: 0.9923 - val_loss: 0.1070 - val_accuracy: 0.9726\n",
            "Epoch 16/30\n",
            "1719/1719 [==============================] - 7s 4ms/step - loss: 0.0236 - accuracy: 0.9920 - val_loss: 0.0950 - val_accuracy: 0.9770\n",
            "Epoch 17/30\n",
            "1719/1719 [==============================] - 7s 4ms/step - loss: 0.0228 - accuracy: 0.9925 - val_loss: 0.0767 - val_accuracy: 0.9826\n",
            "Epoch 18/30\n",
            "1719/1719 [==============================] - 10s 6ms/step - loss: 0.0218 - accuracy: 0.9933 - val_loss: 0.1021 - val_accuracy: 0.9780\n",
            "Epoch 19/30\n",
            "1719/1719 [==============================] - 10s 6ms/step - loss: 0.0203 - accuracy: 0.9934 - val_loss: 0.0909 - val_accuracy: 0.9784\n",
            "Epoch 20/30\n",
            "1719/1719 [==============================] - 7s 4ms/step - loss: 0.0198 - accuracy: 0.9936 - val_loss: 0.0933 - val_accuracy: 0.9794\n",
            "Epoch 21/30\n",
            "1719/1719 [==============================] - 8s 5ms/step - loss: 0.0187 - accuracy: 0.9939 - val_loss: 0.0982 - val_accuracy: 0.9792\n",
            "Epoch 22/30\n",
            "1719/1719 [==============================] - 7s 4ms/step - loss: 0.0211 - accuracy: 0.9935 - val_loss: 0.0979 - val_accuracy: 0.9770\n",
            "Epoch 23/30\n",
            "1719/1719 [==============================] - 9s 5ms/step - loss: 0.0196 - accuracy: 0.9933 - val_loss: 0.0993 - val_accuracy: 0.9808\n",
            "Epoch 24/30\n",
            "1719/1719 [==============================] - 7s 4ms/step - loss: 0.0189 - accuracy: 0.9938 - val_loss: 0.0934 - val_accuracy: 0.9786\n",
            "Epoch 25/30\n",
            "1719/1719 [==============================] - 6s 4ms/step - loss: 0.0210 - accuracy: 0.9932 - val_loss: 0.1042 - val_accuracy: 0.9786\n",
            "Epoch 26/30\n",
            "1719/1719 [==============================] - 7s 4ms/step - loss: 0.0178 - accuracy: 0.9940 - val_loss: 0.1055 - val_accuracy: 0.9816\n",
            "Epoch 27/30\n",
            "1719/1719 [==============================] - 6s 4ms/step - loss: 0.0218 - accuracy: 0.9926 - val_loss: 0.1132 - val_accuracy: 0.9788\n",
            "Epoch 28/30\n",
            "1719/1719 [==============================] - 7s 4ms/step - loss: 0.0190 - accuracy: 0.9940 - val_loss: 0.0948 - val_accuracy: 0.9800\n",
            "Epoch 29/30\n",
            "1719/1719 [==============================] - 6s 4ms/step - loss: 0.0160 - accuracy: 0.9946 - val_loss: 0.0955 - val_accuracy: 0.9822\n",
            "Epoch 30/30\n",
            "1719/1719 [==============================] - 7s 4ms/step - loss: 0.0208 - accuracy: 0.9935 - val_loss: 0.1193 - val_accuracy: 0.9756\n"
          ]
        }
      ]
    },
    {
      "cell_type": "code",
      "source": [
        "model.evaluate(X_test,y_test)"
      ],
      "metadata": {
        "colab": {
          "base_uri": "https://localhost:8080/"
        },
        "id": "F845x-cYnwFy",
        "outputId": "67bb2481-9a61-4f41-a47f-372101debf31"
      },
      "execution_count": null,
      "outputs": [
        {
          "output_type": "stream",
          "name": "stdout",
          "text": [
            "313/313 [==============================] - 1s 2ms/step - loss: 0.1114 - accuracy: 0.9747\n"
          ]
        },
        {
          "output_type": "execute_result",
          "data": {
            "text/plain": [
              "[0.1114073395729065, 0.9746999740600586]"
            ]
          },
          "metadata": {},
          "execution_count": 45
        }
      ]
    },
    {
      "cell_type": "markdown",
      "source": [
        "Del modelo original: loss: 59.6784 - accuracy: 0.9806\n",
        "\n",
        "Ahora obtenemos: loss: 0.1114 - accuracy: 0.9747\n",
        "\n",
        "El loss o error disminuye muchisimo a comparacion del modelo original, mientras que el accuracy tambien disminuye un poco. Podemos estar haciendo algo de sobreajuste aqui"
      ],
      "metadata": {
        "id": "kHb1TSkUo9FZ"
      }
    },
    {
      "cell_type": "markdown",
      "source": [
        "Ahora al modelo original se le cambia el numero de neuronas en las capas ocultas a 64 y 128"
      ],
      "metadata": {
        "id": "RXVaP8gBoNw7"
      }
    },
    {
      "cell_type": "code",
      "source": [
        "model = keras.models.Sequential() #crea un modelo secuencial, el más simple en Keras\n",
        "model.add(keras.layers.Flatten(input_shape = (28,28))) # la capa de entrada, Flatten covierte las imagenes en objetos de una dimension\n",
        "model.add(keras.layers.Dense(64, kernel_initializer = 'he_normal')) # la capa densa compuesta por 64 neuronas\n",
        "model.add(keras.layers.LeakyReLU(alpha=0.2))\n",
        "# model.add(keras.layers.Dropout(0.2))\n",
        "model.add(keras.layers.Dense(128, activation='relu')) # segunda capa densa compuesta por 128 neuronas\n",
        "# model.add(keras.layers.Dropout(0.2))\n",
        "model.add(keras.layers.Dense(10, activation='softmax')) # la capa de salida, una neurona por clase"
      ],
      "metadata": {
        "id": "VfGh22BzpWRS"
      },
      "execution_count": null,
      "outputs": []
    },
    {
      "cell_type": "code",
      "source": [
        "model.compile(loss='sparse_categorical_crossentropy', optimizer='adam', metrics=['accuracy'])"
      ],
      "metadata": {
        "id": "24LrdQHVpgnX"
      },
      "execution_count": null,
      "outputs": []
    },
    {
      "cell_type": "code",
      "source": [
        "history = model.fit(X_train, y_train, epochs=30, validation_data = (X_valid, y_valid))"
      ],
      "metadata": {
        "colab": {
          "base_uri": "https://localhost:8080/"
        },
        "id": "YiojP-tXpmin",
        "outputId": "7199eeee-e5b4-4386-89d6-a59bd69c6600"
      },
      "execution_count": null,
      "outputs": [
        {
          "output_type": "stream",
          "name": "stdout",
          "text": [
            "Epoch 1/30\n",
            "1719/1719 [==============================] - 7s 3ms/step - loss: 0.2826 - accuracy: 0.9176 - val_loss: 0.1634 - val_accuracy: 0.9560\n",
            "Epoch 2/30\n",
            "1719/1719 [==============================] - 5s 3ms/step - loss: 0.1292 - accuracy: 0.9601 - val_loss: 0.1121 - val_accuracy: 0.9654\n",
            "Epoch 3/30\n",
            "1719/1719 [==============================] - 6s 3ms/step - loss: 0.0921 - accuracy: 0.9713 - val_loss: 0.0905 - val_accuracy: 0.9738\n",
            "Epoch 4/30\n",
            "1719/1719 [==============================] - 5s 3ms/step - loss: 0.0731 - accuracy: 0.9770 - val_loss: 0.0933 - val_accuracy: 0.9704\n",
            "Epoch 5/30\n",
            "1719/1719 [==============================] - 6s 4ms/step - loss: 0.0589 - accuracy: 0.9811 - val_loss: 0.0771 - val_accuracy: 0.9756\n",
            "Epoch 6/30\n",
            "1719/1719 [==============================] - 5s 3ms/step - loss: 0.0473 - accuracy: 0.9853 - val_loss: 0.0855 - val_accuracy: 0.9758\n",
            "Epoch 7/30\n",
            "1719/1719 [==============================] - 5s 3ms/step - loss: 0.0414 - accuracy: 0.9865 - val_loss: 0.0821 - val_accuracy: 0.9784\n",
            "Epoch 8/30\n",
            "1719/1719 [==============================] - 6s 3ms/step - loss: 0.0343 - accuracy: 0.9891 - val_loss: 0.0931 - val_accuracy: 0.9742\n",
            "Epoch 9/30\n",
            "1719/1719 [==============================] - 5s 3ms/step - loss: 0.0306 - accuracy: 0.9901 - val_loss: 0.0927 - val_accuracy: 0.9776\n",
            "Epoch 10/30\n",
            "1719/1719 [==============================] - 6s 3ms/step - loss: 0.0282 - accuracy: 0.9909 - val_loss: 0.0797 - val_accuracy: 0.9776\n",
            "Epoch 11/30\n",
            "1719/1719 [==============================] - 5s 3ms/step - loss: 0.0231 - accuracy: 0.9921 - val_loss: 0.0842 - val_accuracy: 0.9784\n",
            "Epoch 12/30\n",
            "1719/1719 [==============================] - 6s 3ms/step - loss: 0.0208 - accuracy: 0.9930 - val_loss: 0.0977 - val_accuracy: 0.9770\n",
            "Epoch 13/30\n",
            "1719/1719 [==============================] - 5s 3ms/step - loss: 0.0189 - accuracy: 0.9933 - val_loss: 0.0954 - val_accuracy: 0.9796\n",
            "Epoch 14/30\n",
            "1719/1719 [==============================] - 6s 3ms/step - loss: 0.0180 - accuracy: 0.9941 - val_loss: 0.0936 - val_accuracy: 0.9792\n",
            "Epoch 15/30\n",
            "1719/1719 [==============================] - 5s 3ms/step - loss: 0.0157 - accuracy: 0.9946 - val_loss: 0.1098 - val_accuracy: 0.9780\n",
            "Epoch 16/30\n",
            "1719/1719 [==============================] - 6s 3ms/step - loss: 0.0167 - accuracy: 0.9942 - val_loss: 0.1043 - val_accuracy: 0.9778\n",
            "Epoch 17/30\n",
            "1719/1719 [==============================] - 5s 3ms/step - loss: 0.0128 - accuracy: 0.9954 - val_loss: 0.0989 - val_accuracy: 0.9796\n",
            "Epoch 18/30\n",
            "1719/1719 [==============================] - 5s 3ms/step - loss: 0.0154 - accuracy: 0.9949 - val_loss: 0.1139 - val_accuracy: 0.9784\n",
            "Epoch 19/30\n",
            "1719/1719 [==============================] - 6s 3ms/step - loss: 0.0134 - accuracy: 0.9957 - val_loss: 0.1059 - val_accuracy: 0.9816\n",
            "Epoch 20/30\n",
            "1719/1719 [==============================] - 5s 3ms/step - loss: 0.0136 - accuracy: 0.9953 - val_loss: 0.1142 - val_accuracy: 0.9786\n",
            "Epoch 21/30\n",
            "1719/1719 [==============================] - 6s 3ms/step - loss: 0.0113 - accuracy: 0.9963 - val_loss: 0.1073 - val_accuracy: 0.9780\n",
            "Epoch 22/30\n",
            "1719/1719 [==============================] - 5s 3ms/step - loss: 0.0127 - accuracy: 0.9960 - val_loss: 0.1213 - val_accuracy: 0.9774\n",
            "Epoch 23/30\n",
            "1719/1719 [==============================] - 6s 3ms/step - loss: 0.0118 - accuracy: 0.9963 - val_loss: 0.1326 - val_accuracy: 0.9766\n",
            "Epoch 24/30\n",
            "1719/1719 [==============================] - 5s 3ms/step - loss: 0.0088 - accuracy: 0.9967 - val_loss: 0.1174 - val_accuracy: 0.9814\n",
            "Epoch 25/30\n",
            "1719/1719 [==============================] - 6s 3ms/step - loss: 0.0141 - accuracy: 0.9954 - val_loss: 0.1583 - val_accuracy: 0.9784\n",
            "Epoch 26/30\n",
            "1719/1719 [==============================] - 5s 3ms/step - loss: 0.0086 - accuracy: 0.9970 - val_loss: 0.1597 - val_accuracy: 0.9760\n",
            "Epoch 27/30\n",
            "1719/1719 [==============================] - 5s 3ms/step - loss: 0.0094 - accuracy: 0.9968 - val_loss: 0.1422 - val_accuracy: 0.9780\n",
            "Epoch 28/30\n",
            "1719/1719 [==============================] - 6s 3ms/step - loss: 0.0103 - accuracy: 0.9965 - val_loss: 0.1315 - val_accuracy: 0.9800\n",
            "Epoch 29/30\n",
            "1719/1719 [==============================] - 5s 3ms/step - loss: 0.0108 - accuracy: 0.9965 - val_loss: 0.1472 - val_accuracy: 0.9806\n",
            "Epoch 30/30\n",
            "1719/1719 [==============================] - 6s 4ms/step - loss: 0.0081 - accuracy: 0.9977 - val_loss: 0.1379 - val_accuracy: 0.9802\n"
          ]
        }
      ]
    },
    {
      "cell_type": "code",
      "source": [
        "model.evaluate(X_test,y_test)"
      ],
      "metadata": {
        "colab": {
          "base_uri": "https://localhost:8080/"
        },
        "id": "5EwscuDTpptE",
        "outputId": "406d1d96-3d83-4067-a4aa-92fadb01b21f"
      },
      "execution_count": null,
      "outputs": [
        {
          "output_type": "stream",
          "name": "stdout",
          "text": [
            "313/313 [==============================] - 1s 3ms/step - loss: 41.4141 - accuracy: 0.9758\n"
          ]
        },
        {
          "output_type": "execute_result",
          "data": {
            "text/plain": [
              "[41.4140739440918, 0.9757999777793884]"
            ]
          },
          "metadata": {},
          "execution_count": 49
        }
      ]
    },
    {
      "cell_type": "markdown",
      "source": [
        "Del modelo original: loss: 59.6784 - accuracy: 0.9806\n",
        "\n",
        "De este modelo: loss: 41.4141 - accuracy: 0.9758\n",
        "\n",
        "El loss disminuye un poco y el accuracy también disminuye un poco"
      ],
      "metadata": {
        "id": "CEaRRzSzpr2K"
      }
    }
  ]
}